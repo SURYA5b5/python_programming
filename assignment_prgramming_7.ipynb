{
 "cells": [
  {
   "cell_type": "markdown",
   "id": "fcad4cec",
   "metadata": {},
   "source": [
    "1.Write a Python Program to find sum of array?"
   ]
  },
  {
   "cell_type": "code",
   "execution_count": 4,
   "id": "d9c28205",
   "metadata": {},
   "outputs": [
    {
     "name": "stdout",
     "output_type": "stream",
     "text": [
      "23\n"
     ]
    }
   ],
   "source": [
    "def sum_array(arr):\n",
    "    print(sum(arr))\n",
    "sum_array([1,5,2,7,8])"
   ]
  },
  {
   "cell_type": "markdown",
   "id": "fd3f0626",
   "metadata": {},
   "source": [
    "2.Write a Python Program to find largest element in an array?"
   ]
  },
  {
   "cell_type": "code",
   "execution_count": 5,
   "id": "f0ce1726",
   "metadata": {},
   "outputs": [
    {
     "name": "stdout",
     "output_type": "stream",
     "text": [
      "8\n"
     ]
    }
   ],
   "source": [
    "def sum_array(arr):\n",
    "    print(max(arr))\n",
    "sum_array([1,5,2,7,8])"
   ]
  },
  {
   "cell_type": "markdown",
   "id": "ee0329a1",
   "metadata": {},
   "source": [
    "3.Write a Python Program for array rotation?"
   ]
  },
  {
   "cell_type": "code",
   "execution_count": 12,
   "id": "63dec455",
   "metadata": {},
   "outputs": [
    {
     "name": "stdout",
     "output_type": "stream",
     "text": [
      "[8, 7, 2, 5, 1]\n"
     ]
    }
   ],
   "source": [
    "def max_array(arr):\n",
    "    print(arr[::-1])\n",
    "max_array([1,5,2,7,8])"
   ]
  },
  {
   "cell_type": "markdown",
   "id": "3d062563",
   "metadata": {},
   "source": [
    "4.Write a Python Program to Split the array and add the first part to the end?"
   ]
  },
  {
   "cell_type": "code",
   "execution_count": 14,
   "id": "3bea4898",
   "metadata": {},
   "outputs": [
    {
     "name": "stdout",
     "output_type": "stream",
     "text": [
      "9\n"
     ]
    }
   ],
   "source": [
    "def add_array(arr):\n",
    "    print(arr[-1]+arr[0])\n",
    "add_array([1,5,2,7,8])"
   ]
  },
  {
   "cell_type": "markdown",
   "id": "dcd17ee2",
   "metadata": {},
   "source": [
    "5.Write a Python Program to check if given array is Monotonic?"
   ]
  },
  {
   "cell_type": "code",
   "execution_count": 24,
   "id": "f0abfd32",
   "metadata": {},
   "outputs": [
    {
     "name": "stdout",
     "output_type": "stream",
     "text": [
      "enter elements:1,2,3,2,1\n",
      "(1, 2, 3, 2, 1) not a monotonic\n",
      "enter elements:1,2,3,4,5,6,7,8\n",
      "(1, 2, 3, 4, 5, 6, 7, 8) monotonic\n"
     ]
    }
   ],
   "source": [
    "def mono():\n",
    "    arr=eval(input('enter elements:'))\n",
    "    if(all(arr[i]<=arr[i+1] for i in range(len(arr)-1)) or all(arr[i]>=arr[i+1] for i in range(len(arr)-1))):\n",
    "        print(arr,\"monotonic\")\n",
    "    else:\n",
    "        print(arr,'not a monotonic')\n",
    "mono()\n",
    "mono()"
   ]
  },
  {
   "cell_type": "code",
   "execution_count": null,
   "id": "0cad62f7",
   "metadata": {},
   "outputs": [],
   "source": []
  }
 ],
 "metadata": {
  "kernelspec": {
   "display_name": "Python 3 (ipykernel)",
   "language": "python",
   "name": "python3"
  },
  "language_info": {
   "codemirror_mode": {
    "name": "ipython",
    "version": 3
   },
   "file_extension": ".py",
   "mimetype": "text/x-python",
   "name": "python",
   "nbconvert_exporter": "python",
   "pygments_lexer": "ipython3",
   "version": "3.9.7"
  }
 },
 "nbformat": 4,
 "nbformat_minor": 5
}
