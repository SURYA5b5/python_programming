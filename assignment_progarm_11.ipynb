{
 "cells": [
  {
   "cell_type": "markdown",
   "id": "d963dcd5",
   "metadata": {},
   "source": [
    "1.Write a Python program to find words which are greater than given length k?"
   ]
  },
  {
   "cell_type": "code",
   "execution_count": 9,
   "id": "dc047266",
   "metadata": {},
   "outputs": [
    {
     "name": "stdout",
     "output_type": "stream",
     "text": [
      "enter string:\n",
      "enter string wish you a very happy birth day\n",
      "enter length:\n",
      "4\n",
      "enter\n",
      "string\n",
      "wish\n",
      "very\n",
      "happy\n",
      "birth\n"
     ]
    }
   ],
   "source": [
    "string=input(\"enter string:\\n\")\n",
    "k=int(input(\"enter length:\\n\"))\n",
    "for i in string.split(\" \"):\n",
    "    if(len(i)>=k):\n",
    "        print(i)"
   ]
  },
  {
   "cell_type": "markdown",
   "id": "caecab34",
   "metadata": {},
   "source": [
    "2.Write a Python program for removing i-th character from a string?"
   ]
  },
  {
   "cell_type": "code",
   "execution_count": 11,
   "id": "74c09a3b",
   "metadata": {},
   "outputs": [
    {
     "name": "stdout",
     "output_type": "stream",
     "text": [
      "enter string:suryateja\n",
      "enter ith position:5\n",
      "suryaeja\n"
     ]
    }
   ],
   "source": [
    "string=input(\"enter string:\")\n",
    "i=int(input(\"enter ith position:\"))\n",
    "result=''\n",
    "for j in range(len(string)):\n",
    "    if j!=i:\n",
    "        result=result+string[j]\n",
    "print(result)"
   ]
  },
  {
   "cell_type": "markdown",
   "id": "876d8e7a",
   "metadata": {},
   "source": [
    "3.Write a Python program to split and join a string?"
   ]
  },
  {
   "cell_type": "code",
   "execution_count": 12,
   "id": "17782622",
   "metadata": {},
   "outputs": [
    {
     "name": "stdout",
     "output_type": "stream",
     "text": [
      "enter string:wish you a very happy birth day\n",
      "['wish', 'you', 'a', 'very', 'happy', 'birth', 'day']\n",
      "wish you a very happy birth day\n"
     ]
    }
   ],
   "source": [
    "string=input(\"enter string:\")\n",
    "a=string.split(' ')\n",
    "print(a)\n",
    "b=' '.join(a)\n",
    "print(b)"
   ]
  },
  {
   "cell_type": "code",
   "execution_count": null,
   "id": "d0f45e33",
   "metadata": {},
   "outputs": [],
   "source": [
    "4.Write a Python to check if a given string is binary string or not?"
   ]
  },
  {
   "cell_type": "code",
   "execution_count": 13,
   "id": "9a5e3dc4",
   "metadata": {},
   "outputs": [
    {
     "name": "stdout",
     "output_type": "stream",
     "text": [
      "Enter the string: 1234\n",
      "1234 is not a binary string\n",
      "Enter the string: 1010101010\n",
      "1010101010 is a binary string\n"
     ]
    }
   ],
   "source": [
    "def checkBinary():\n",
    "    in_string = input('Enter the string: ')\n",
    "    stun = 0\n",
    "    for ele in in_string:\n",
    "        if ele in ['0','1']:\n",
    "            stun = 1\n",
    "            continue\n",
    "        else:\n",
    "            stun = 0\n",
    "            break\n",
    "    statement = 'is a binary string' if stun == 1 else 'is not a binary string' \n",
    "    print(f'{in_string} {statement}')\n",
    "\n",
    "checkBinary()\n",
    "checkBinary()"
   ]
  },
  {
   "cell_type": "code",
   "execution_count": null,
   "id": "748b451e",
   "metadata": {},
   "outputs": [],
   "source": [
    "5.Write a Python program to find uncommon words from two Strings?"
   ]
  },
  {
   "cell_type": "code",
   "execution_count": 16,
   "id": "2641fe0b",
   "metadata": {},
   "outputs": [
    {
     "name": "stdout",
     "output_type": "stream",
     "text": [
      "Enter the String 1: ok boss\n",
      "Enter the String 2: ok god\n",
      "{'boss', 'god'}\n"
     ]
    }
   ],
   "source": [
    "string_1 =set(input(\"Enter the String 1: \").split(' '))\n",
    "string_2 =set(input(\"Enter the String 2: \").split(' '))\n",
    "result = (string_1.union(string_2)).difference((string_1.intersection(string_2)))\n",
    "print(result)"
   ]
  },
  {
   "cell_type": "code",
   "execution_count": null,
   "id": "4f93fadb",
   "metadata": {},
   "outputs": [],
   "source": [
    "6.Write a Python to find all duplicate characters in string?"
   ]
  },
  {
   "cell_type": "code",
   "execution_count": 17,
   "id": "73917b60",
   "metadata": {},
   "outputs": [
    {
     "name": "stdout",
     "output_type": "stream",
     "text": [
      "enter string:surya teja uriti\n",
      "duplicate values of this string is: ['r', 'i', 'a', 't', 'u', ' ']\n"
     ]
    }
   ],
   "source": [
    "s1=input(\"enter string:\")\n",
    "non=[]\n",
    "yes=[]\n",
    "for i in s1:\n",
    "    if i not in non:\n",
    "        non.append(i)\n",
    "    else:\n",
    "        yes.append(i)\n",
    "print(\"duplicate values of this string is:\",list(set(yes)))"
   ]
  },
  {
   "cell_type": "code",
   "execution_count": null,
   "id": "daa45bf2",
   "metadata": {},
   "outputs": [],
   "source": [
    "7.Write a Python Program to check if a string contains any special character?"
   ]
  },
  {
   "cell_type": "code",
   "execution_count": 18,
   "id": "6eea2fed",
   "metadata": {},
   "outputs": [
    {
     "name": "stdout",
     "output_type": "stream",
     "text": [
      "enter string:suryatejauriti@gmail.com\n",
      "these are the specials characters in a string: suryatejauriti@gmail.com is ['@']\n"
     ]
    }
   ],
   "source": [
    "s=[]\n",
    "spl_chars = '[@_!#$%^&*()<>?/\\|}{~:]'\n",
    "string= input(\"enter string:\")\n",
    "for i in string:\n",
    "    if i in spl_chars:\n",
    "        s.append(i)\n",
    "print(\"these are the specials characters in a string:\",string,\"is\",s)"
   ]
  },
  {
   "cell_type": "code",
   "execution_count": null,
   "id": "77f3da7d",
   "metadata": {},
   "outputs": [],
   "source": []
  }
 ],
 "metadata": {
  "kernelspec": {
   "display_name": "Python 3 (ipykernel)",
   "language": "python",
   "name": "python3"
  },
  "language_info": {
   "codemirror_mode": {
    "name": "ipython",
    "version": 3
   },
   "file_extension": ".py",
   "mimetype": "text/x-python",
   "name": "python",
   "nbconvert_exporter": "python",
   "pygments_lexer": "ipython3",
   "version": "3.9.7"
  }
 },
 "nbformat": 4,
 "nbformat_minor": 5
}
