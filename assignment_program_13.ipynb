{
 "cells": [
  {
   "cell_type": "markdown",
   "id": "914b572a",
   "metadata": {},
   "source": [
    "1.Write a program that calculates and prints the value according to the given formula:\n",
    "Q = Square root of [(2 * C * D)/H]\n",
    "Following are the fixed values of C and H:\n",
    "C is 50. H is 30.\n",
    "D is the variable whose values should be input to your program in a comma-separated sequence.\n",
    "Example\n",
    "Let us assume the following comma separated input sequence is given to the program:\n",
    "100,150,180\n",
    "The output of the program should be:\n",
    "18,22,24"
   ]
  },
  {
   "cell_type": "code",
   "execution_count": 9,
   "id": "997df67b",
   "metadata": {},
   "outputs": [
    {
     "name": "stdout",
     "output_type": "stream",
     "text": [
      "Enter the Input: 20,50,60\n",
      "result: 8,12,14\n"
     ]
    }
   ],
   "source": [
    "from math import sqrt\n",
    "num = eval(input(\"Enter the Input: \"))\n",
    "result = []\n",
    "C = 50 \n",
    "H = 30 \n",
    "for i in num:\n",
    "    Q = str(int(sqrt((2*C*i)/H)))\n",
    "    result.append(Q)\n",
    "print(\"result:\",(','.join(result)))"
   ]
  },
  {
   "cell_type": "markdown",
   "id": "078dac97",
   "metadata": {},
   "source": [
    "2.Write a program which takes 2 digits, X,Y as input and generates a 2-dimensional array. The element value in the i-th row and j-th column of the array should be i*j.\n",
    "Note: i=0,1.., X-1; j=0,1,¡¬Y-1.\n",
    "\n",
    "Example\n",
    "Suppose the following inputs are given to the program:\n",
    "3,5\n",
    "Then, the output of the program should be:\n",
    "[[0, 0, 0, 0, 0], [0, 1, 2, 3, 4], [0, 2, 4, 6, 8]] \n",
    "\n"
   ]
  },
  {
   "cell_type": "code",
   "execution_count": 13,
   "id": "f78d7fc9",
   "metadata": {},
   "outputs": [
    {
     "name": "stdout",
     "output_type": "stream",
     "text": [
      "Enter the No of Rows:4\n",
      "Enter the No of Columns:3\n",
      "[[0, 0, 0], [0, 1, 2], [0, 2, 4], [0, 3, 6]]\n"
     ]
    }
   ],
   "source": [
    "x = int(input('Enter the No of Rows:'))\n",
    "y = int(input('Enter the No of Columns:')) \n",
    "array= []\n",
    "for i in range(x):\n",
    "    array.insert(x,[])\n",
    "    for j in range(y):\n",
    "        array[i].append(i*j)\n",
    "print(array)"
   ]
  },
  {
   "cell_type": "markdown",
   "id": "a3333f51",
   "metadata": {},
   "source": [
    "3.Write a program that accepts a comma separated sequence of words as input and prints the words in a comma-separated sequence after sorting them alphabetically.\n",
    "Suppose the following input is supplied to the program:\n",
    "without,hello,bag,world\n",
    "Then, the output should be:\n",
    "bag,hello,without,world"
   ]
  },
  {
   "cell_type": "code",
   "execution_count": 14,
   "id": "4a20c6ca",
   "metadata": {},
   "outputs": [
    {
     "name": "stdout",
     "output_type": "stream",
     "text": [
      "without,hello,bag,world\n"
     ]
    },
    {
     "data": {
      "text/plain": [
       "'bag,hello,without,world'"
      ]
     },
     "execution_count": 14,
     "metadata": {},
     "output_type": "execute_result"
    }
   ],
   "source": [
    "s='without,hello,bag,world'\n",
    "print(s)\n",
    "result=','.join(sorted(s.split(',')))\n",
    "result"
   ]
  },
  {
   "cell_type": "markdown",
   "id": "044a3926",
   "metadata": {},
   "source": [
    "4.Write a program that accepts a sequence of whitespace separated words as input and prints the words after removing all duplicate words and sorting them alphanumerically.\n",
    "\n",
    "Suppose the following input is supplied to the program:\n",
    "hello world and practice makes perfect and hello world again\n",
    "Then, the output should be\n",
    "again and hello makes perfect practice world"
   ]
  },
  {
   "cell_type": "code",
   "execution_count": 15,
   "id": "c085c98f",
   "metadata": {},
   "outputs": [
    {
     "name": "stdout",
     "output_type": "stream",
     "text": [
      "hello world and practice makes perfect and hello world again\n",
      "ordered_result: again and hello makes perfect practice world\n"
     ]
    }
   ],
   "source": [
    "s='hello world and practice makes perfect and hello world again'\n",
    "print(s)\n",
    "result=' '.join(sorted(set(s.split(\" \"))))\n",
    "print(\"ordered_result:\",result)"
   ]
  },
  {
   "cell_type": "code",
   "execution_count": null,
   "id": "ae598115",
   "metadata": {},
   "outputs": [],
   "source": [
    "5.Write a program that accepts a sentence and calculate the number of letters and digits.\n",
    "\n",
    "Suppose the following input is supplied to the program:\n",
    "hello world! 123\n",
    "Then, the output should be:\n",
    "LETTERS 10\n",
    "DIGITS 3"
   ]
  },
  {
   "cell_type": "code",
   "execution_count": 16,
   "id": "711b45bf",
   "metadata": {},
   "outputs": [
    {
     "name": "stdout",
     "output_type": "stream",
     "text": [
      "Enter the Input String: hello world! 123\n",
      "LETTERS 10 \n",
      "DIGITS 3\n"
     ]
    }
   ],
   "source": [
    "string=input(\"Enter the Input String: \")\n",
    "letters_List='ABCDEFGHIJKLMNOPQRSTUVWXYZabcdefghijklmnopqrstuvwxyz'\n",
    "digits_List='0123456789'\n",
    "letters=0\n",
    "digits=0\n",
    "for i in string:\n",
    "    if i in letters_List:\n",
    "        letters += 1\n",
    "    if i in digits_List:\n",
    "        digits += 1\n",
    "print(f'LETTERS {letters} \\nDIGITS {digits}')       "
   ]
  },
  {
   "cell_type": "markdown",
   "id": "19d030cc",
   "metadata": {},
   "source": [
    "6.A website requires the users to input username and password to register. Write a program to check the validity of password input by users.\n",
    "\n",
    "Following are the criteria for checking the password:\n",
    "\n",
    "1. At least 1 letter between [a-z]\n",
    "2. At least 1 number between [0-9]\n",
    "\n",
    "1. At least 1 letter between [A-Z]\n",
    "3. At least 1 characterfrom [$#@]\n",
    "4. Minimum length of trasaction password: 6\n",
    "5. Maximum length of tranaction password: 12\n",
    "Your program should accepta sequence of comma separated passwords and will check them according to the above criteria. Passwords that match the criteria are to be printed, each separated by a comma.\n",
    "\n",
    "Example\n",
    "If the following passwords re given as input to the program:\n",
    "ABd1234@1,a F1#,2w3E*,2We334\n",
    "Then, the output of the program should e:\n",
    "ABd1234@1"
   ]
  },
  {
   "cell_type": "code",
   "execution_count": 1,
   "id": "20dde6d0",
   "metadata": {},
   "outputs": [
    {
     "name": "stdout",
     "output_type": "stream",
     "text": [
      "Enter the Input String: ABd1234@1,a F1#,2w3E*,2We3345 ABd1234@1\n",
      "password: ABd1234@1\n"
     ]
    }
   ],
   "source": [
    "in_string = input(\"Enter the Input String: \")\n",
    "small_list = \"abcdefghijklmnopqrstuvwxyz\"\n",
    "cap_list = \"ABCDEFGHIJKLMNOPQRSTUVWXYZ\"\n",
    "num_list = \"0123456789\"\n",
    "special_list = \"$#@\"\n",
    "for ele in in_string.split(\",\"):\n",
    "    if len(ele) <= 12 and len(ele) >=6 :\n",
    "        if any(i.isupper() for i in ele):\n",
    "            if any(i.islower() for i in ele):\n",
    "                if any(i for i in ele if i in special_list):\n",
    "                    print(\"password:\",ele)"
   ]
  },
  {
   "cell_type": "code",
   "execution_count": null,
   "id": "b03e8ad9",
   "metadata": {},
   "outputs": [],
   "source": []
  }
 ],
 "metadata": {
  "kernelspec": {
   "display_name": "Python 3 (ipykernel)",
   "language": "python",
   "name": "python3"
  },
  "language_info": {
   "codemirror_mode": {
    "name": "ipython",
    "version": 3
   },
   "file_extension": ".py",
   "mimetype": "text/x-python",
   "name": "python",
   "nbconvert_exporter": "python",
   "pygments_lexer": "ipython3",
   "version": "3.9.7"
  }
 },
 "nbformat": 4,
 "nbformat_minor": 5
}
