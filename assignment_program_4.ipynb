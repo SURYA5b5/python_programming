{
 "cells": [
  {
   "cell_type": "markdown",
   "id": "5aa3a30a",
   "metadata": {},
   "source": [
    "1. Write a Python Program to Find the Factorial of a Number?"
   ]
  },
  {
   "cell_type": "code",
   "execution_count": 6,
   "id": "d937ccff",
   "metadata": {},
   "outputs": [
    {
     "name": "stdout",
     "output_type": "stream",
     "text": [
      "enter n :5\n",
      "factoiral of 5 is 120\n"
     ]
    }
   ],
   "source": [
    "n=int(input(\"enter n :\"))\n",
    "fact=1\n",
    "if (n==0 or n==1):\n",
    "    print(f\"factoiral of {n} is 1\")\n",
    "else:\n",
    "    for i in range(1,n+1):\n",
    "        fact=fact*i\n",
    "    print(f\"factoiral of {n} is {fact}\")"
   ]
  },
  {
   "cell_type": "markdown",
   "id": "f444c8f3",
   "metadata": {},
   "source": [
    "2. Write a Python Program to Display the multiplication Table?"
   ]
  },
  {
   "cell_type": "code",
   "execution_count": 13,
   "id": "9242e174",
   "metadata": {},
   "outputs": [
    {
     "name": "stdout",
     "output_type": "stream",
     "text": [
      "entere the table u want:16\n",
      "1 * 16 = 16\n",
      "2 * 16 = 32\n",
      "3 * 16 = 48\n",
      "4 * 16 = 64\n",
      "5 * 16 = 80\n",
      "6 * 16 = 96\n",
      "7 * 16 = 112\n",
      "8 * 16 = 128\n",
      "9 * 16 = 144\n",
      "10 * 16 = 160\n"
     ]
    }
   ],
   "source": [
    "n=int(input(\"entere the table u want:\"))\n",
    "for i in range(1,11):\n",
    "    print(i,\"*\",n,\"=\",i*n)"
   ]
  },
  {
   "cell_type": "markdown",
   "id": "41d8fd02",
   "metadata": {},
   "source": [
    "3. Write a Python Program to Print the Fibonacci sequence?"
   ]
  },
  {
   "cell_type": "code",
   "execution_count": 17,
   "id": "322a7813",
   "metadata": {},
   "outputs": [
    {
     "name": "stdout",
     "output_type": "stream",
     "text": [
      "5\n",
      "fibonacci series of 5 is:\n",
      "0\n",
      "1\n",
      "1\n",
      "2\n",
      "3\n"
     ]
    }
   ],
   "source": [
    "n=int(input())\n",
    "print(f\"fibonacci series of {n} is:\")\n",
    "a,b=0,1\n",
    "for i in range(1,n+1):\n",
    "    a,b=a+b,a\n",
    "    print(b)"
   ]
  },
  {
   "cell_type": "markdown",
   "id": "c1c63cfd",
   "metadata": {},
   "source": [
    "4.\tWrite a Python Program to Check Armstrong Number?"
   ]
  },
  {
   "cell_type": "code",
   "execution_count": 21,
   "id": "ff3b7b8d",
   "metadata": {},
   "outputs": [
    {
     "name": "stdout",
     "output_type": "stream",
     "text": [
      "371\n",
      "371 is a armstrog number\n"
     ]
    }
   ],
   "source": [
    "n=int(input())\n",
    "s=0\n",
    "temp=n\n",
    "while(temp>0):\n",
    "    d=temp%10\n",
    "    s=s+d**3\n",
    "    temp=temp//10\n",
    "if(n==s):\n",
    "    print(n,\"is a armstrog number\")\n",
    "else:\n",
    "    print(n,\"is not a armstrog number\")"
   ]
  },
  {
   "cell_type": "markdown",
   "id": "75c7d183",
   "metadata": {},
   "source": [
    "5.\tWrite a Python Program to Find Armstrong Number in an Interval?"
   ]
  },
  {
   "cell_type": "code",
   "execution_count": 5,
   "id": "b0407b34",
   "metadata": {},
   "outputs": [
    {
     "name": "stdout",
     "output_type": "stream",
     "text": [
      "1\n",
      "500\n",
      "armstrong numbers from 1 to 500 are:\n",
      "1\n",
      "153\n",
      "370\n",
      "371\n",
      "407\n"
     ]
    }
   ],
   "source": [
    "from_input=int(input())\n",
    "to_input=int(input())\n",
    "print(f\"armstrong numbers from {from_input} to {to_input} are:\")\n",
    "for i in range(from_input,to_input+1):\n",
    "    s=0\n",
    "    temp=i\n",
    "    while(temp>0):\n",
    "        d=temp%10\n",
    "        s=s+d**3\n",
    "        temp=temp//10\n",
    "    if(i==s):\n",
    "        print(i)"
   ]
  },
  {
   "cell_type": "markdown",
   "id": "9bbdf606",
   "metadata": {},
   "source": [
    "6.\tWrite a Python Program to Find the Sum of Natural Numbers?"
   ]
  },
  {
   "cell_type": "code",
   "execution_count": 6,
   "id": "dcf54e44",
   "metadata": {},
   "outputs": [
    {
     "name": "stdout",
     "output_type": "stream",
     "text": [
      "enter n natural numbers5\n",
      "sum of 5 natural numbers is 15\n"
     ]
    }
   ],
   "source": [
    "n=int(input(\"enter n natural numbers\"))\n",
    "sum=0\n",
    "for i in range(n+1):\n",
    "    sum=sum+i\n",
    "print(f\"sum of {n} natural numbers is {sum}\")"
   ]
  }
 ],
 "metadata": {
  "kernelspec": {
   "display_name": "Python 3 (ipykernel)",
   "language": "python",
   "name": "python3"
  },
  "language_info": {
   "codemirror_mode": {
    "name": "ipython",
    "version": 3
   },
   "file_extension": ".py",
   "mimetype": "text/x-python",
   "name": "python",
   "nbconvert_exporter": "python",
   "pygments_lexer": "ipython3",
   "version": "3.9.7"
  }
 },
 "nbformat": 4,
 "nbformat_minor": 5
}
