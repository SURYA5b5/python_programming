{
 "cells": [
  {
   "cell_type": "markdown",
   "id": "327bbfee",
   "metadata": {},
   "source": [
    "1. Create a function that takes a list of strings and integers, and filters out the list so that it returns a list of integers only.\n",
    "Examples\n",
    "filter_list([1, 2, 3, \"a\", \"b\", 4]) ➞ [1, 2, 3, 4]\n",
    "\n",
    "filter_list([\"A\", 0, \"Edabit\", 1729, \"Python\", \"1729\"]) ➞ [0, 1729]\n",
    "\n",
    "filter_list([\"Nothing\", \"here\"]) ➞ []"
   ]
  },
  {
   "cell_type": "code",
   "execution_count": 2,
   "id": "491545db",
   "metadata": {},
   "outputs": [
    {
     "name": "stdout",
     "output_type": "stream",
     "text": [
      "([1, 2, 3, 'a', 'b', 4])-->([1, 2, 3, 4])\n",
      "(['A', 0, 'Edabit', 1729, 'Python', '1729'])-->([0, 1729])\n",
      "(['Nothing', 'here'])-->([])\n"
     ]
    }
   ],
   "source": [
    "def filter_int(l):\n",
    "    s=[]\n",
    "    for i in l:\n",
    "        if type(i)==int:\n",
    "            s.append(i)\n",
    "    print(f'({l})-->({s})')\n",
    "filter_int([1, 2, 3, \"a\", \"b\", 4])\n",
    "filter_int([\"A\", 0, \"Edabit\", 1729, \"Python\", \"1729\"])\n",
    "filter_int([\"Nothing\", \"here\"])"
   ]
  },
  {
   "cell_type": "markdown",
   "id": "e7f5bfe7",
   "metadata": {},
   "source": [
    "2. Given a list of numbers, create a function which returns the list but with each element's index in the list added to itself. This means you add 0 to the number at index 0, add 1 to the number at index 1, etc...\n",
    "Examples\n",
    "add_indexes([0, 0, 0, 0, 0]) ➞ [0, 1, 2, 3, 4]\n",
    "\n",
    "add_indexes([1, 2, 3, 4, 5]) ➞ [1, 3, 5, 7, 9]\n",
    "\n",
    "add_indexes([5, 4, 3, 2, 1]) ➞ [5, 5, 5, 5, 5]\n"
   ]
  },
  {
   "cell_type": "code",
   "execution_count": 8,
   "id": "06e87010",
   "metadata": {},
   "outputs": [
    {
     "name": "stdout",
     "output_type": "stream",
     "text": [
      "([0, 0, 0, 0, 0])-->([0, 1, 2, 3, 4])\n",
      "([1, 2, 3, 4, 5])-->([1, 3, 5, 7, 9])\n",
      "([5, 4, 3, 2, 1])-->([5, 5, 5, 5, 5])\n"
     ]
    }
   ],
   "source": [
    "def numbers(l):\n",
    "    s=[]\n",
    "    for i in range(len(l)):\n",
    "        s.append(i+l[i])\n",
    "    print(f'({l})-->({s})')\n",
    "numbers([0,0,0,0,0])\n",
    "numbers([1, 2, 3, 4, 5])\n",
    "numbers([5, 4, 3, 2, 1])"
   ]
  },
  {
   "attachments": {},
   "cell_type": "markdown",
   "id": "a85cebf8",
   "metadata": {},
   "source": [
    "3. Create a function that takes the height and radius of a cone as arguments and returns the volume of the cone rounded to the    nearest hundredth. See the resources tab for the formula.\n",
    "   Examples\n",
    "    cone_volume(3, 2) ➞ 12.57\n",
    "\n",
    "    cone_volume(15, 6) ➞ 565.49\n",
    "\n",
    "    cone_volume(18, 0) ➞ 0"
   ]
  },
  {
   "cell_type": "code",
   "execution_count": 14,
   "id": "556a4843",
   "metadata": {},
   "outputs": [
    {
     "name": "stdout",
     "output_type": "stream",
     "text": [
      "(3, 2)-->12.57\n",
      "(15, 6)-->565.49\n",
      "(18, 0)-->0.00\n"
     ]
    }
   ],
   "source": [
    "import math\n",
    "def volume(h,r):\n",
    "    cone=((math.pi)*(r*r)*(h/3))\n",
    "    print(f'{(h,r)}-->{cone:.2f}')\n",
    "volume(3,2)\n",
    "volume(15,6)\n",
    "volume(18,0)"
   ]
  },
  {
   "cell_type": "markdown",
   "id": "2d46a233",
   "metadata": {},
   "source": [
    "4. This Triangular Number Sequence is generated from a pattern of dots that form a triangle. The first 5 numbers of the sequence, or dots, are: \n",
    "1, 3, 6, 10, 15\n",
    "This means that the first triangle has just one dot, the second one has three dots, the third one has 6 dots and so on.\n",
    "Write a function that gives the number of dots with its corresponding triangle number of the sequence.\n",
    "Examples\n",
    "triangle(1) ➞ 1\n",
    "\n",
    "triangle(6) ➞ 21\n",
    "\n",
    "triangle(215) ➞ 23220\n"
   ]
  },
  {
   "cell_type": "code",
   "execution_count": 26,
   "id": "2fe2b389",
   "metadata": {},
   "outputs": [
    {
     "name": "stdout",
     "output_type": "stream",
     "text": [
      "(1)--> 1\n",
      "(21)--> 231\n",
      "(23220)--> 269595810\n"
     ]
    }
   ],
   "source": [
    "def seq(num):\n",
    "    print(f'({num})--> {int(num*((num+1)/2))}')\n",
    "seq(1)\n",
    "seq(21)\n",
    "seq(23220)"
   ]
  },
  {
   "cell_type": "markdown",
   "id": "818b036e",
   "metadata": {},
   "source": [
    "5. Create a function that takes a list of numbers between 1 and 10 (excluding one number) and returns the missing number.\n",
    "Examples\n",
    "missing_num([1, 2, 3, 4, 6, 7, 8, 9, 10]) ➞ 5\n",
    "\n",
    "missing_num([7, 2, 3, 6, 5, 9, 1, 4, 8]) ➞ 10\n",
    "\n",
    "missing_num([10, 5, 1, 2, 4, 6, 8, 3, 9]) ➞ 7\n",
    "\n"
   ]
  },
  {
   "cell_type": "code",
   "execution_count": 44,
   "id": "02f7e1bb",
   "metadata": {},
   "outputs": [
    {
     "name": "stdout",
     "output_type": "stream",
     "text": [
      "([1, 2, 3, 4, 6, 7, 8, 9, 10])--->5\n",
      "([7, 2, 3, 6, 5, 9, 1, 4, 8])--->10\n",
      "([10, 5, 1, 2, 4, 6, 8, 3, 9])--->7\n"
     ]
    }
   ],
   "source": [
    "def exclude(l):\n",
    "    for i in range(1,11):\n",
    "        if i not in l:\n",
    "            print(f'({l})--->{i}')\n",
    "exclude([1,2,3,4,6,7,8,9,10])\n",
    "exclude([7, 2, 3, 6, 5, 9, 1, 4, 8])\n",
    "exclude([10, 5, 1, 2, 4, 6, 8, 3, 9])"
   ]
  },
  {
   "cell_type": "code",
   "execution_count": null,
   "id": "4dc49526",
   "metadata": {},
   "outputs": [],
   "source": []
  }
 ],
 "metadata": {
  "kernelspec": {
   "display_name": "Python 3 (ipykernel)",
   "language": "python",
   "name": "python3"
  },
  "language_info": {
   "codemirror_mode": {
    "name": "ipython",
    "version": 3
   },
   "file_extension": ".py",
   "mimetype": "text/x-python",
   "name": "python",
   "nbconvert_exporter": "python",
   "pygments_lexer": "ipython3",
   "version": "3.9.7"
  }
 },
 "nbformat": 4,
 "nbformat_minor": 5
}
