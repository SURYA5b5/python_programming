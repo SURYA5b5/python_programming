{
 "cells": [
  {
   "cell_type": "markdown",
   "id": "6177815b",
   "metadata": {},
   "source": [
    "1. Write a Python program to convert kilometers to miles?"
   ]
  },
  {
   "cell_type": "code",
   "execution_count": 5,
   "id": "c04a147d",
   "metadata": {},
   "outputs": [
    {
     "name": "stdout",
     "output_type": "stream",
     "text": [
      "enter kilometers:29\n",
      "29 kilometers = 18.01973 miles.\n"
     ]
    }
   ],
   "source": [
    "kms=int(input(\"enter kilometers:\"))\n",
    "miles=kms*0.62137\n",
    "print(f'{kms} kilometers = {miles} miles.')"
   ]
  },
  {
   "cell_type": "markdown",
   "id": "0a39a371",
   "metadata": {},
   "source": [
    "2. Write a Python program to convert Celsius to Fahrenheit?"
   ]
  },
  {
   "cell_type": "code",
   "execution_count": 8,
   "id": "6c5e745e",
   "metadata": {},
   "outputs": [
    {
     "name": "stdout",
     "output_type": "stream",
     "text": [
      "37\n",
      "37celsius=98.60000000000001Fahrenheit\n"
     ]
    }
   ],
   "source": [
    "cel=int(input())\n",
    "f=cel*(9/5)+32\n",
    "print(f'{cel}celsius={f}Fahrenheit')"
   ]
  },
  {
   "cell_type": "markdown",
   "id": "3dc9a862",
   "metadata": {},
   "source": [
    "3. Write a Python program to display calendar?"
   ]
  },
  {
   "cell_type": "code",
   "execution_count": 9,
   "id": "c0b40dea",
   "metadata": {},
   "outputs": [
    {
     "name": "stdout",
     "output_type": "stream",
     "text": [
      "      May 2014\n",
      "Mo Tu We Th Fr Sa Su\n",
      "          1  2  3  4\n",
      " 5  6  7  8  9 10 11\n",
      "12 13 14 15 16 17 18\n",
      "19 20 21 22 23 24 25\n",
      "26 27 28 29 30 31\n",
      "\n"
     ]
    }
   ],
   "source": [
    "import calendar\n",
    "yyyy=2014\n",
    "mm=5\n",
    "print(calendar.month(yyyy,mm))"
   ]
  },
  {
   "cell_type": "markdown",
   "id": "d6d47d69",
   "metadata": {},
   "source": [
    "4. Write a Python program to solve quadratic equation?"
   ]
  },
  {
   "cell_type": "code",
   "execution_count": 10,
   "id": "c0da95a0",
   "metadata": {},
   "outputs": [
    {
     "name": "stdout",
     "output_type": "stream",
     "text": [
      "the solutions are (-0.3125-1.0135796712641785j) (-0.3125+1.0135796712641785j)\n"
     ]
    }
   ],
   "source": [
    "import cmath\n",
    "a,b,c=8,5,9\n",
    "d=(b**2)-(4*a*c)\n",
    "s1=(-b-cmath.sqrt(d))/(2*a)\n",
    "s2=(-b+cmath.sqrt(d))/(2*a)\n",
    "print(\"the solutions are\",s1,s2)"
   ]
  },
  {
   "cell_type": "markdown",
   "id": "5ba04bc7",
   "metadata": {},
   "source": [
    "5. Write a Python program to swap two variables without temp variable?"
   ]
  },
  {
   "cell_type": "code",
   "execution_count": 13,
   "id": "a4013925",
   "metadata": {},
   "outputs": [
    {
     "name": "stdout",
     "output_type": "stream",
     "text": [
      "before swap: 1 2\n",
      "after swap: 2 1\n"
     ]
    }
   ],
   "source": [
    "a,b=1,2\n",
    "print(\"before swap:\",a,b)\n",
    "a,b=b,a\n",
    "print(\"after swap:\",a,b)"
   ]
  },
  {
   "cell_type": "code",
   "execution_count": 16,
   "id": "42226761",
   "metadata": {},
   "outputs": [
    {
     "name": "stdout",
     "output_type": "stream",
     "text": [
      "before swap: 3 5\n",
      "after swap: 5 3\n"
     ]
    }
   ],
   "source": [
    "a,b=3,5\n",
    "print(\"before swap:\",a,b)\n",
    "a=a+b\n",
    "b=a-b\n",
    "a=a-b\n",
    "print(\"after swap:\",a,b)"
   ]
  }
 ],
 "metadata": {
  "kernelspec": {
   "display_name": "Python 3 (ipykernel)",
   "language": "python",
   "name": "python3"
  },
  "language_info": {
   "codemirror_mode": {
    "name": "ipython",
    "version": 3
   },
   "file_extension": ".py",
   "mimetype": "text/x-python",
   "name": "python",
   "nbconvert_exporter": "python",
   "pygments_lexer": "ipython3",
   "version": "3.9.7"
  }
 },
 "nbformat": 4,
 "nbformat_minor": 5
}
