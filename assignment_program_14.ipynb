{
 "cells": [
  {
   "cell_type": "markdown",
   "id": "7b6a6c9e",
   "metadata": {},
   "source": [
    "1.Define a class with a generator which can iterate the numbers, which are divisible by 7, between a given range 0 and n."
   ]
  },
  {
   "cell_type": "code",
   "execution_count": 7,
   "id": "33c8d117",
   "metadata": {},
   "outputs": [
    {
     "name": "stdout",
     "output_type": "stream",
     "text": [
      "0 7 14 21 28 35 42 49 56 63 70 77 84 91 98 105 112 119 126 133 140 147 154 161 168 175 182 189 196 203 210 217 224 231 238 245 252 259 266 273 280 287 294 301 308 315 322 329 336 343 350 "
     ]
    }
   ],
   "source": [
    "class generator:\n",
    "    def __init__(self,num):\n",
    "        self.num = num\n",
    "    def method(self):\n",
    "        for i in range(0,self.num+1):\n",
    "            if i%7 == 0:\n",
    "                yield i\n",
    "                \n",
    "output = generator(350)\n",
    "for i in output.method():\n",
    "    print(i,end=' ')"
   ]
  },
  {
   "cell_type": "markdown",
   "id": "a6d9fb00",
   "metadata": {},
   "source": [
    "2.Write a program to compute the frequency of the words from the input. The output should output after sorting the key alphanumerically. \n",
    "Suppose the following input is supplied to the program:\n",
    "New to Python or choosing between Python 2 and Python 3? Read Python 2 or Python 3.\n",
    "\n",
    "Then, the output should be:\n",
    "2:2\n",
    "3.:1\n",
    "3?:1\n",
    "New:1\n",
    "Python:5\n",
    "Read:1\n",
    "and:1\n",
    "between:1\n",
    "choosing:1\n",
    "or:2\n",
    "to:1"
   ]
  },
  {
   "cell_type": "code",
   "execution_count": 1,
   "id": "b9269ccb",
   "metadata": {},
   "outputs": [
    {
     "name": "stdout",
     "output_type": "stream",
     "text": [
      "enter string:New to Python or choosing between Python 2 and Python 3? Read Python 2 or Python 3\n",
      "2 : 2\n",
      "3 : 1\n",
      "3? : 1\n",
      "New : 1\n",
      "Python : 5\n",
      "Read : 1\n",
      "and : 1\n",
      "between : 1\n",
      "choosing : 1\n",
      "or : 2\n",
      "to : 1\n"
     ]
    }
   ],
   "source": [
    "string=input(\"enter string:\").split(\" \")\n",
    "frequency={}\n",
    "for i in string:\n",
    "    if frequency.get(i)==None:\n",
    "        frequency[i]=1\n",
    "    else:\n",
    "        frequency[i]+=1\n",
    "for j in sorted(frequency):\n",
    "    print(j,\":\",frequency[j])"
   ]
  },
  {
   "cell_type": "markdown",
   "id": "aeedc6bf",
   "metadata": {},
   "source": [
    "3.Define a class Person and its two child classes: Male and Female. All classes have a method \"getGender\" which can print \"Male\" for Male class and \"Female\" for Female class"
   ]
  },
  {
   "cell_type": "code",
   "execution_count": 9,
   "id": "50b3f173",
   "metadata": {},
   "outputs": [
    {
     "name": "stdout",
     "output_type": "stream",
     "text": [
      "Male\n",
      "Female\n"
     ]
    }
   ],
   "source": [
    "class person:\n",
    "    def getGender():\n",
    "        pass\n",
    "class Male(person):\n",
    "    def getGender():\n",
    "        return \"Male\"\n",
    "class Female(person):\n",
    "    def getGender():\n",
    "        return \"Female\"\n",
    "print(Male.getGender())\n",
    "print(Female.getGender())"
   ]
  },
  {
   "cell_type": "markdown",
   "id": "03e9cbd8",
   "metadata": {},
   "source": [
    "4.Please write a program to generate all sentences where subject is in [\"I\", \"You\"] and verb is in [\"Play\", \"Love\"] and the object is in [\"Hockey\",\"Football\"]."
   ]
  },
  {
   "cell_type": "code",
   "execution_count": 10,
   "id": "b63bc808",
   "metadata": {},
   "outputs": [
    {
     "name": "stdout",
     "output_type": "stream",
     "text": [
      "I Play Hockey\n",
      "I Play Football\n",
      "I Love Hockey\n",
      "I Love Football\n",
      "You Play Hockey\n",
      "You Play Football\n",
      "You Love Hockey\n",
      "You Love Football\n"
     ]
    }
   ],
   "source": [
    "subject=[\"I\", \"You\"]\n",
    "verb=[\"Play\", \"Love\"]\n",
    "Object=[\"Hockey\",\"Football\"]\n",
    "for i in subject:\n",
    "    for j in verb:\n",
    "        for k in Object:\n",
    "            print(i, j, k)"
   ]
  },
  {
   "cell_type": "markdown",
   "id": "b7d13ee4",
   "metadata": {},
   "source": [
    "5.Please write a program to compress and decompress the string \"hello world!hello world!hello world!hello world!\"."
   ]
  },
  {
   "cell_type": "code",
   "execution_count": 11,
   "id": "c820d29e",
   "metadata": {},
   "outputs": [
    {
     "name": "stdout",
     "output_type": "stream",
     "text": [
      "hel2o world!hel2o world!hel2o world!hel2o world!\n",
      "hello world!hello world!hello world!hello world!\n",
      "ineuron ful2 stack datascience\n",
      "ineuron full stack datascience\n"
     ]
    }
   ],
   "source": [
    "def compress(in_string):\n",
    "    output = in_string[0]\n",
    "    count = 1\n",
    "    for ele in range(len(in_string)-1):\n",
    "        if in_string[ele] == in_string[ele+1]:\n",
    "            count +=1\n",
    "        else:\n",
    "            if count > 1:\n",
    "                output += str(count)\n",
    "            output += in_string[ele+1]\n",
    "            count = 1\n",
    "    if count > 1:\n",
    "        output += str(count)            \n",
    "    print(output)\n",
    "\n",
    "\n",
    "def decompress(in_string):\n",
    "    output = ''\n",
    "    for ele in range(len(in_string)):\n",
    "        if in_string[ele].isdigit():\n",
    "            output += output[-1]*(int(in_string[ele])-1)\n",
    "        else:\n",
    "            output += in_string[ele]\n",
    "    print(output)\n",
    "    \n",
    "        \n",
    "compress(\"o world!hello world!hello world!hello world!\")\n",
    "decompress(\"hel2o world!hel2o world!hel2o world!hel2o world!\")\n",
    "\n",
    "compress('ineuron full stack datascience')\n",
    "decompress('ineuron ful2 stack datascience')"
   ]
  },
  {
   "cell_type": "markdown",
   "id": "3feb1e99",
   "metadata": {},
   "source": [
    "6.Please write a binary search function which searches an item in a sorted list. The function should return the index of         element to be searched in the list."
   ]
  },
  {
   "cell_type": "code",
   "execution_count": 14,
   "id": "7e0968e2",
   "metadata": {},
   "outputs": [
    {
     "name": "stdout",
     "output_type": "stream",
     "text": [
      "7,element is found,3,position\n",
      "element not found\n",
      "None\n"
     ]
    }
   ],
   "source": [
    "def search(List1,search_element):\n",
    "    low=0\n",
    "    high=len(List1)\n",
    "    while low<=high:\n",
    "        mid=(low+high)//2\n",
    "        if(List1[mid]<search_element):\n",
    "            low=mid+1\n",
    "        elif(List1[mid]>search_element):\n",
    "            high=mid-1\n",
    "        else:\n",
    "            return f\"{List1[mid]},element is found,{mid},position\"\n",
    "    else:\n",
    "        print(\"element not found\")\n",
    "print(search([10,1,4,7,8,54],7))\n",
    "print(search([10,1,4,7,8,54],41))"
   ]
  },
  {
   "cell_type": "code",
   "execution_count": null,
   "id": "652eb5ff",
   "metadata": {},
   "outputs": [],
   "source": []
  }
 ],
 "metadata": {
  "kernelspec": {
   "display_name": "Python 3 (ipykernel)",
   "language": "python",
   "name": "python3"
  },
  "language_info": {
   "codemirror_mode": {
    "name": "ipython",
    "version": 3
   },
   "file_extension": ".py",
   "mimetype": "text/x-python",
   "name": "python",
   "nbconvert_exporter": "python",
   "pygments_lexer": "ipython3",
   "version": "3.9.7"
  }
 },
 "nbformat": 4,
 "nbformat_minor": 5
}
