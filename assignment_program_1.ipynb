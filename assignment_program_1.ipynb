{
 "cells": [
  {
   "cell_type": "markdown",
   "id": "802a054f",
   "metadata": {},
   "source": [
    "1. Write a Python program to print \"Hello Python\"?"
   ]
  },
  {
   "cell_type": "code",
   "execution_count": 2,
   "id": "139aaa71",
   "metadata": {},
   "outputs": [
    {
     "name": "stdout",
     "output_type": "stream",
     "text": [
      "hello python\n"
     ]
    }
   ],
   "source": [
    "print(\"hello python\")"
   ]
  },
  {
   "cell_type": "markdown",
   "id": "c1cc1103",
   "metadata": {},
   "source": [
    "2. Write a Python program to do arithmetical operations addition and division.?"
   ]
  },
  {
   "cell_type": "code",
   "execution_count": 5,
   "id": "80f3efe1",
   "metadata": {},
   "outputs": [
    {
     "name": "stdout",
     "output_type": "stream",
     "text": [
      "5\n",
      "10\n",
      "addition of two values: 15\n",
      "division of two values: 0.5\n"
     ]
    }
   ],
   "source": [
    "a=int(input())\n",
    "b=int(input())\n",
    "print(\"addition of two values:\",a+b)\n",
    "print(\"division of two values:\",a/b)"
   ]
  },
  {
   "cell_type": "markdown",
   "id": "6d1c2c0c",
   "metadata": {},
   "source": [
    "3. Write a Python program to find the area of a triangle?"
   ]
  },
  {
   "cell_type": "code",
   "execution_count": 7,
   "id": "6c3ca16e",
   "metadata": {},
   "outputs": [
    {
     "name": "stdout",
     "output_type": "stream",
     "text": [
      "20\n",
      "5\n",
      "50.0\n"
     ]
    }
   ],
   "source": [
    "height=int(input())\n",
    "base=int(input())\n",
    "area_of_triangle=(1/2)*base*height\n",
    "print(area_of_triangle)"
   ]
  },
  {
   "cell_type": "markdown",
   "id": "8ea12c87",
   "metadata": {},
   "source": [
    "4. Write a Python program to swap two variables?"
   ]
  },
  {
   "cell_type": "code",
   "execution_count": 16,
   "id": "c447cb44",
   "metadata": {},
   "outputs": [
    {
     "name": "stdout",
     "output_type": "stream",
     "text": [
      "20 50\n"
     ]
    }
   ],
   "source": [
    "a,b=50,20\n",
    "swap=a\n",
    "a=b\n",
    "b=swap\n",
    "print(a,b)"
   ]
  },
  {
   "cell_type": "markdown",
   "id": "12b41dd1",
   "metadata": {},
   "source": [
    "5. Write a Python program to generate a random number?"
   ]
  },
  {
   "cell_type": "code",
   "execution_count": 19,
   "id": "ec83a7a9",
   "metadata": {},
   "outputs": [
    {
     "name": "stdout",
     "output_type": "stream",
     "text": [
      "1738\n"
     ]
    }
   ],
   "source": [
    "import random as r\n",
    "a=r.randint(1,10000)\n",
    "print(a)"
   ]
  }
 ],
 "metadata": {
  "kernelspec": {
   "display_name": "Python 3 (ipykernel)",
   "language": "python",
   "name": "python3"
  },
  "language_info": {
   "codemirror_mode": {
    "name": "ipython",
    "version": 3
   },
   "file_extension": ".py",
   "mimetype": "text/x-python",
   "name": "python",
   "nbconvert_exporter": "python",
   "pygments_lexer": "ipython3",
   "version": "3.9.7"
  }
 },
 "nbformat": 4,
 "nbformat_minor": 5
}
