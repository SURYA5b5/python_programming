{
 "cells": [
  {
   "cell_type": "markdown",
   "id": "67a67d1d",
   "metadata": {},
   "source": [
    "1. Create a function that takes three parameters where:\n",
    "•\tx is the start of the range (inclusive).\n",
    "•\ty is the end of the range (inclusive).\n",
    "•\tn is the divisor to be checked against.\n",
    "Return an ordered list with numbers in the range that are divisible by the third parameter n. Return an empty list if there are no numbers that are divisible by n.\n",
    "Examples\n",
    "list_operation(1, 10, 3) ➞ [3, 6, 9]\n",
    "\n",
    "list_operation(7, 9, 2) ➞ [8]\n",
    "\n",
    "list_operation(15, 20, 7) ➞ []\n",
    "\n"
   ]
  },
  {
   "cell_type": "code",
   "execution_count": 3,
   "id": "bf055984",
   "metadata": {},
   "outputs": [
    {
     "name": "stdout",
     "output_type": "stream",
     "text": [
      "(1, 10, 3)--->[3, 6, 9]\n",
      "(7, 9, 2)--->[8]\n",
      "(15, 20, 7)--->[]\n"
     ]
    }
   ],
   "source": [
    "def div(x,y,n):\n",
    "    s=[]\n",
    "    for i in range(x,y):\n",
    "        if i%n==0:\n",
    "            s.append(i)\n",
    "    print(f'{x,y,n}--->{s}')\n",
    "div(1, 10, 3)\n",
    "div(7, 9, 2)\n",
    "div(15, 20, 7)"
   ]
  },
  {
   "cell_type": "markdown",
   "id": "2b1fe686",
   "metadata": {},
   "source": [
    "2. Create a function that takes in two lists and returns True if the second list follows the first list by one element, and False otherwise. In other words, determine if the second list is the first list shifted to the right by 1.\n",
    "Examples\n",
    "simon_says([1, 2], [5, 1]) ➞ True\n",
    "\n",
    "simon_says([1, 2], [5, 5]) ➞ False\n",
    "\n",
    "simon_says([1, 2, 3, 4, 5], [0, 1, 2, 3, 4]) ➞ True\n",
    "\n",
    "simon_says([1, 2, 3, 4, 5], [5, 5, 1, 2, 3]) ➞ False\n",
    "Notes\n",
    "•\tBoth input lists will be of the same length, and will have a minimum length of 2.\n",
    "•\tThe values of the 0-indexed element in the second list and the n-1th indexed element in the first list do not matter."
   ]
  },
  {
   "cell_type": "code",
   "execution_count": 5,
   "id": "4ea51a78",
   "metadata": {},
   "outputs": [
    {
     "name": "stdout",
     "output_type": "stream",
     "text": [
      "([1, 2], [5, 1]) --> True\n",
      "([1, 2], [5, 5]) --> False\n",
      "([1, 2, 3, 4, 5], [0, 1, 2, 3, 4]) --> True\n",
      "([1, 2, 3, 4, 5], [5, 5, 1, 2, 3]) --> False\n"
     ]
    }
   ],
   "source": [
    "def simon_says(in_list_1,in_list_2):\n",
    "    if len(in_list_1) == len(in_list_1) and len(in_list_1) >=2 and len(in_list_1) >=2:\n",
    "        if(in_list_1[:-1] == in_list_2[1:]):\n",
    "            print(f'{in_list_1,in_list_2} --> {True}')\n",
    "        else:\n",
    "            print(f'{in_list_1,in_list_2} --> {False}')\n",
    "            \n",
    "simon_says([1, 2], [5, 1])\n",
    "simon_says([1, 2], [5, 5])\n",
    "simon_says([1, 2, 3, 4, 5], [0, 1, 2, 3, 4])\n",
    "simon_says([1, 2, 3, 4, 5], [5, 5, 1, 2, 3])\n",
    "    "
   ]
  },
  {
   "cell_type": "markdown",
   "id": "f7654ee5",
   "metadata": {},
   "source": [
    "3. A group of friends have decided to start a secret society. The name will be the first letter of each of their names, sorted in alphabetical order.\n",
    "Create a function that takes in a list of names and returns the name of the secret society.\n",
    "Examples\n",
    "society_name([\"Adam\", \"Sarah\", \"Malcolm\"]) ➞ \"AMS\"\n",
    "\n",
    "society_name([\"Harry\", \"Newt\", \"Luna\", \"Cho\"]) ➞ \"CHLN\"\n",
    "\n",
    "society_name([\"Phoebe\", \"Chandler\", \"Rachel\", \"Ross\", \"Monica\", \"Joey\"])\n"
   ]
  },
  {
   "cell_type": "code",
   "execution_count": 18,
   "id": "70ec3862",
   "metadata": {},
   "outputs": [
    {
     "name": "stdout",
     "output_type": "stream",
     "text": [
      "(['Adam', 'Sarah', 'Malcolm'])--->\"AMS\"\n",
      "(['Harry', 'Newt', 'Luna', 'Cho'])--->\"CHLN\"\n",
      "(['Phoebe', 'Chandler', 'Rachel', 'Ross', 'Monica', 'Joey'])--->\"CJMPRR\"\n"
     ]
    }
   ],
   "source": [
    "def society_name(l):\n",
    "    s=[]\n",
    "    k=''\n",
    "    for i in l:\n",
    "        s.append(i[0])\n",
    "        k=''.join(sorted(s))\n",
    "    print(f'({l})--->\"{k}\"')\n",
    "society_name([\"Adam\", \"Sarah\", \"Malcolm\"])\n",
    "society_name([\"Harry\", \"Newt\", \"Luna\", \"Cho\"]) \n",
    "society_name([\"Phoebe\", \"Chandler\", \"Rachel\", \"Ross\", \"Monica\", \"Joey\"])"
   ]
  },
  {
   "cell_type": "raw",
   "id": "8df0d991",
   "metadata": {},
   "source": [
    "4. An isogram is a word that has no duplicate letters. Create a function that takes a string and returns either True or False depending on whether or not it's an \"isogram\".\n",
    "Examples\n",
    "is_isogram(\"Algorism\") ➞ True\n",
    "\n",
    "is_isogram(\"PasSword\") ➞ False\n",
    "# Not case sensitive.\n",
    "\n",
    "is_isogram(\"Consecutive\") ➞ False\n",
    "Notes\n",
    "•\tIgnore letter case (should not be case sensitive).\n",
    "•\tAll test cases contain valid one word strings.\n"
   ]
  },
  {
   "cell_type": "code",
   "execution_count": 20,
   "id": "df34bad9",
   "metadata": {},
   "outputs": [
    {
     "name": "stdout",
     "output_type": "stream",
     "text": [
      "algorism -->True\n",
      "password -->False\n",
      "consecutive -->False\n"
     ]
    }
   ],
   "source": [
    "def is_isogram(s):\n",
    "    s=s.lower()\n",
    "    if len(s)==len(set(s)):\n",
    "         print(f'{s} -->{True}')\n",
    "    else:\n",
    "        print(f'{s} -->{False}')\n",
    "\n",
    "is_isogram(\"Algorism\")\n",
    "is_isogram(\"PasSword\")\n",
    "is_isogram(\"Consecutive\") "
   ]
  },
  {
   "cell_type": "markdown",
   "id": "d8569f6a",
   "metadata": {},
   "source": [
    "5. Create a function that takes a string and returns True or False, depending on whether the characters are in order or not.\n",
    "Examples\n",
    "is_in_order(\"abc\") ➞ True\n",
    "\n",
    "is_in_order(\"edabit\") ➞ False\n",
    "\n",
    "is_in_order(\"123\") ➞ True\n",
    "\n",
    "is_in_order(\"xyzz\") ➞ True\n",
    "Notes\n",
    "You don't have to handle empty strings.\n"
   ]
  },
  {
   "cell_type": "code",
   "execution_count": 23,
   "id": "37adb4d1",
   "metadata": {},
   "outputs": [
    {
     "name": "stdout",
     "output_type": "stream",
     "text": [
      "(abc)-->True\n",
      "(edabit)-->False\n",
      "(123)-->True\n",
      "(xyzz)-->True\n"
     ]
    }
   ],
   "source": [
    "def is_in_order(s):\n",
    "    k=''.join(sorted(s))\n",
    "    if s==k:\n",
    "        print(f'({s})-->True')\n",
    "    else:\n",
    "        print(f'({s})-->False')\n",
    "        \n",
    "is_in_order(\"abc\")\n",
    "is_in_order(\"edabit\")\n",
    "is_in_order(\"123\")\n",
    "is_in_order(\"xyzz\")"
   ]
  },
  {
   "cell_type": "code",
   "execution_count": null,
   "id": "93e542c3",
   "metadata": {},
   "outputs": [],
   "source": []
  }
 ],
 "metadata": {
  "kernelspec": {
   "display_name": "Python 3 (ipykernel)",
   "language": "python",
   "name": "python3"
  },
  "language_info": {
   "codemirror_mode": {
    "name": "ipython",
    "version": 3
   },
   "file_extension": ".py",
   "mimetype": "text/x-python",
   "name": "python",
   "nbconvert_exporter": "python",
   "pygments_lexer": "ipython3",
   "version": "3.9.7"
  }
 },
 "nbformat": 4,
 "nbformat_minor": 5
}
