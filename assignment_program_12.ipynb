{
 "cells": [
  {
   "cell_type": "markdown",
   "id": "cee59488",
   "metadata": {},
   "source": [
    "1.Write a Python program to Extract Unique values dictionary values?"
   ]
  },
  {
   "cell_type": "code",
   "execution_count": 3,
   "id": "3e88ab3a",
   "metadata": {},
   "outputs": [
    {
     "name": "stdout",
     "output_type": "stream",
     "text": [
      "unique values: [1, 2, 3, 4]\n"
     ]
    }
   ],
   "source": [
    "dict1={'AWS':1,'DL':2,\"mL\":3,\"NLP\":4,\".NET\":4}\n",
    "dict1.values()\n",
    "print(\"unique values:\",list(set(dict1.values())))"
   ]
  },
  {
   "cell_type": "markdown",
   "id": "a0adbe1d",
   "metadata": {},
   "source": [
    "2.Write a Python program to find the sum of all items in a dictionary?"
   ]
  },
  {
   "cell_type": "code",
   "execution_count": 5,
   "id": "8f4543d0",
   "metadata": {},
   "outputs": [
    {
     "name": "stdout",
     "output_type": "stream",
     "text": [
      "14\n"
     ]
    }
   ],
   "source": [
    "dict1={'AWS':1,'DL':2,\"mL\":3,\"NLP\":4,\".NET\":4}\n",
    "print(sum(dict1.values()))"
   ]
  },
  {
   "cell_type": "markdown",
   "id": "9a3ffe86",
   "metadata": {},
   "source": [
    "3.Write a Python program to Merging two Dictionaries?"
   ]
  },
  {
   "cell_type": "code",
   "execution_count": 8,
   "id": "1570b1b3",
   "metadata": {},
   "outputs": [
    {
     "name": "stdout",
     "output_type": "stream",
     "text": [
      "{'AWS': 1, 'DL': 2, 'mL': 3, 'NLP': 4, '.NET': 4}\n"
     ]
    }
   ],
   "source": [
    "dict1={'AWS':1,'DL':2}\n",
    "dict2={\"mL\":3,\"NLP\":4,\".NET\":4}\n",
    "dict1.update(dict2)\n",
    "print(dict1)"
   ]
  },
  {
   "cell_type": "markdown",
   "id": "a8ca74bb",
   "metadata": {},
   "source": [
    "4.Write a Python program to convert key-values list to flat dictionary?"
   ]
  },
  {
   "cell_type": "code",
   "execution_count": 9,
   "id": "a5caa286",
   "metadata": {},
   "outputs": [
    {
     "data": {
      "text/plain": [
       "{'A': 1, 'B': 2, 'C': 3, 'D': 4, 'E': 5}"
      ]
     },
     "execution_count": 9,
     "metadata": {},
     "output_type": "execute_result"
    }
   ],
   "source": [
    "list1=[('A',1),('B',2),('C',3),('D',4),('E',5)]\n",
    "dict(list1)"
   ]
  },
  {
   "cell_type": "markdown",
   "id": "f66c32a0",
   "metadata": {},
   "source": [
    "5.Write a Python program to insertion at the beginning in OrderedDict?"
   ]
  },
  {
   "cell_type": "code",
   "execution_count": 10,
   "id": "144c8924",
   "metadata": {},
   "outputs": [
    {
     "name": "stdout",
     "output_type": "stream",
     "text": [
      "OrderedDict([('AWS', 4), ('DL', 1), ('mL', 4), ('NLP', 3), ('.NET', 2), ('rat', '5')])\n",
      "OrderedDict([('rat', '5'), ('AWS', 4), ('DL', 1), ('mL', 4), ('NLP', 3), ('.NET', 2)])\n"
     ]
    }
   ],
   "source": [
    "from collections import OrderedDict\n",
    "k=OrderedDict({'AWS': 4, 'DL': 1, 'mL': 4, 'NLP': 3, '.NET': 2})\n",
    "s={'rat':'5'}\n",
    "k.update(s)\n",
    "print(k)\n",
    "k.move_to_end('rat',last=False)\n",
    "print(k)"
   ]
  },
  {
   "cell_type": "markdown",
   "id": "88d4b9d2",
   "metadata": {},
   "source": [
    "6.Write a Python program to check order of character in string using OrderedDict()?"
   ]
  },
  {
   "cell_type": "code",
   "execution_count": 8,
   "id": "db92de4a",
   "metadata": {},
   "outputs": [
    {
     "name": "stdout",
     "output_type": "stream",
     "text": [
      "{'AWS': 4, 'DL': 1, 'mL': 4, 'NLP': 3, 'NET': 2, 'rat': 9}\n",
      "OrderedDict([('AWS', 4), ('DL', 1), ('NET', 2), ('NLP', 3), ('mL', 4), ('rat', 9)])\n"
     ]
    }
   ],
   "source": [
    "from collections import OrderedDict\n",
    "k={'AWS': 4, 'DL': 1, 'mL': 4, 'NLP': 3, 'NET': 2,'rat':9}\n",
    "print(k)\n",
    "s=OrderedDict(dict(sorted(k.items())))\n",
    "print(s)"
   ]
  },
  {
   "cell_type": "markdown",
   "id": "91d917c1",
   "metadata": {},
   "source": [
    "7.Write a Python program to sort Python Dictionaries by Key or Value?"
   ]
  },
  {
   "cell_type": "code",
   "execution_count": 9,
   "id": "cbc9aea5",
   "metadata": {},
   "outputs": [
    {
     "name": "stdout",
     "output_type": "stream",
     "text": [
      "{'Banana': 60, 'Grape': 13, 'Mango': 100, 'PineApple': 22}\n",
      "{'Grape': 13, 'PineApple': 22, 'Banana': 60, 'Mango': 100}\n"
     ]
    }
   ],
   "source": [
    "d_items = {'Mango':100,'PineApple':22,'Banana':60,'Grape':13}\n",
    "\n",
    "def sort_dict(in_dict,sort_type):\n",
    "    if sort_type == 'key':\n",
    "        print(dict(sorted(in_dict.items(), key=lambda x:x[0], reverse=False)))\n",
    "    else:\n",
    "        print(dict(sorted(in_dict.items(), key=lambda x:x[1], reverse=False)))\n",
    "        \n",
    "sort_dict(d_items,'key')        \n",
    "sort_dict(d_items,'value')"
   ]
  },
  {
   "cell_type": "code",
   "execution_count": null,
   "id": "17ebf178",
   "metadata": {},
   "outputs": [],
   "source": []
  }
 ],
 "metadata": {
  "kernelspec": {
   "display_name": "Python 3 (ipykernel)",
   "language": "python",
   "name": "python3"
  },
  "language_info": {
   "codemirror_mode": {
    "name": "ipython",
    "version": 3
   },
   "file_extension": ".py",
   "mimetype": "text/x-python",
   "name": "python",
   "nbconvert_exporter": "python",
   "pygments_lexer": "ipython3",
   "version": "3.9.7"
  }
 },
 "nbformat": 4,
 "nbformat_minor": 5
}
