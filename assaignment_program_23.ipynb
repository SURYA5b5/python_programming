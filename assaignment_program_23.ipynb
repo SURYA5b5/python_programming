{
 "cells": [
  {
   "cell_type": "markdown",
   "id": "fe4471d0",
   "metadata": {},
   "source": [
    "1. Create a function that takes a number as an argument and returns True or False depending on whether the number is symmetrical or not. A number is symmetrical when it is the same as its reverse.\n",
    "Examples\n",
    "is_symmetrical(7227) ➞ True\n",
    "\n",
    "is_symmetrical(12567) ➞ False\n",
    "\n",
    "is_symmetrical(44444444) ➞ True\n",
    "\n",
    "is_symmetrical(9939) ➞ False\n",
    "\n",
    "is_symmetrical(1112111) ➞ True\n"
   ]
  },
  {
   "cell_type": "code",
   "execution_count": 15,
   "id": "c605ad3f",
   "metadata": {},
   "outputs": [
    {
     "name": "stdout",
     "output_type": "stream",
     "text": [
      "(7227)-->True\n",
      "(12567)-->False\n",
      "(44444444)-->True\n",
      "(9939)-->False\n",
      "(1112111)-->True\n"
     ]
    }
   ],
   "source": [
    "def is_symmetrical(num):\n",
    "    num=str(num)\n",
    "    if num==num[::-1]:\n",
    "        print(f\"({num})-->True\")\n",
    "    else:\n",
    "        print(f\"({num})-->False\")\n",
    "is_symmetrical(7227)\n",
    "is_symmetrical(12567)\n",
    "is_symmetrical(44444444)\n",
    "is_symmetrical(9939)\n",
    "is_symmetrical(1112111)"
   ]
  },
  {
   "cell_type": "markdown",
   "id": "d4263076",
   "metadata": {},
   "source": [
    "2. Given a string of numbers separated by a comma and space, return the product of the numbers.\n",
    "Examples\n",
    "multiply_nums(\"2, 3\") ➞ 6\n",
    "\n",
    "multiply_nums(\"1, 2, 3, 4\") ➞ 24\n",
    "\n",
    "multiply_nums(\"54, 75, 453, 0\") ➞ 0\n",
    "\n",
    "multiply_nums(\"10, -2\") ➞ -20\n"
   ]
  },
  {
   "cell_type": "code",
   "execution_count": 17,
   "id": "9cd8a0e1",
   "metadata": {},
   "outputs": [
    {
     "name": "stdout",
     "output_type": "stream",
     "text": [
      "2, 3 ---> 6\n",
      "1, 2, 3, 4 ---> 24\n",
      "54, 75, 453, 0 ---> 0\n",
      "10, -2 ---> -20\n"
     ]
    }
   ],
   "source": [
    "def multiply_nums(in_string):\n",
    "    out_string = in_string.replace(' ','').split(',')\n",
    "    out_num = 1\n",
    "    for ele in out_string:\n",
    "        out_num *= int(ele)\n",
    "    print(f'{in_string} ---> {out_num}')\n",
    "    \n",
    "multiply_nums(\"2, 3\")\n",
    "multiply_nums(\"1, 2, 3, 4\")\n",
    "multiply_nums(\"54, 75, 453, 0\")\n",
    "multiply_nums(\"10, -2\")"
   ]
  },
  {
   "cell_type": "markdown",
   "id": "a8f8350f",
   "metadata": {},
   "source": [
    "3. Create a function that squares every digit of a number.\n",
    "Examples\n",
    "square_digits(9119) ➞ 811181\n",
    "\n",
    "square_digits(2483) ➞ 416649\n",
    "\n",
    "square_digits(3212) ➞ 9414\n",
    "Notes\n",
    "The function receives an integer and must return an integer.\n"
   ]
  },
  {
   "cell_type": "code",
   "execution_count": 11,
   "id": "d6b09954",
   "metadata": {},
   "outputs": [
    {
     "name": "stdout",
     "output_type": "stream",
     "text": [
      "9119-->811181\n",
      "2483-->416649\n",
      "3212-->9414\n"
     ]
    }
   ],
   "source": [
    "def square_digits(n):\n",
    "    l=[str(int(i)**2) for i in str(n)]\n",
    "    r=''.join(l)\n",
    "    print(f'{n}-->{r}')\n",
    "square_digits(9119)\n",
    "square_digits(2483)\n",
    "square_digits(3212)"
   ]
  },
  {
   "cell_type": "markdown",
   "id": "e983db88",
   "metadata": {},
   "source": [
    "4. Create a function that sorts a list and removes all duplicate items from it.\n",
    "Examples\n",
    "setify([1, 3, 3, 5, 5]) ➞ [1, 3, 5]\n",
    "\n",
    "setify([4, 4, 4, 4]) ➞ [4]\n",
    "\n",
    "setify([5, 7, 8, 9, 10, 15]) ➞ [5, 7, 8, 9, 10, 15]\n",
    "\n",
    "setify([3, 3, 3, 2, 1]) ➞ [1, 2, 3]\n"
   ]
  },
  {
   "cell_type": "code",
   "execution_count": 16,
   "id": "25e870ab",
   "metadata": {},
   "outputs": [
    {
     "name": "stdout",
     "output_type": "stream",
     "text": [
      "[1, 3, 3, 5, 5]-->[1, 3, 5]\n",
      "[4, 4, 4, 4]-->[4]\n",
      "[5, 7, 8, 9, 10, 15]-->[5, 7, 8, 9, 10, 15]\n",
      "[3, 3, 3, 2, 1]-->[1, 2, 3]\n"
     ]
    }
   ],
   "source": [
    "def setify(l):\n",
    "    s=sorted(set(l))\n",
    "    print(f'{l}-->{s}')\n",
    "setify([1, 3, 3, 5, 5])\n",
    "setify([4, 4, 4, 4])\n",
    "setify([5, 7, 8, 9, 10, 15])\n",
    "setify([3, 3, 3, 2, 1])"
   ]
  },
  {
   "cell_type": "markdown",
   "id": "bcfa187f",
   "metadata": {},
   "source": [
    "5. Create a function that returns the mean of all digits.\n",
    "Examples\n",
    "mean(42) ➞ 3\n",
    "\n",
    "mean(12345) ➞ 3\n",
    "\n",
    "mean(666) ➞ 6\n",
    "Notes\n",
    "•\tThe mean of all digits is the sum of digits / how many digits there are (e.g. mean of digits in 512 is (5+1+2)/3(number of digits) = 8/3=2).\n",
    "•\tThe mean will always be an integer.\n"
   ]
  },
  {
   "cell_type": "code",
   "execution_count": 24,
   "id": "5f8e5b04",
   "metadata": {},
   "outputs": [
    {
     "name": "stdout",
     "output_type": "stream",
     "text": [
      "42-->3\n",
      "12345-->7\n",
      "666-->9\n"
     ]
    }
   ],
   "source": [
    "def mean(n):\n",
    "    s=0\n",
    "    temp=n\n",
    "    while n!=0:\n",
    "        r=n%10\n",
    "        s=s+r\n",
    "        n=n//10\n",
    "    print(f'{temp}-->{int(s/2)}')\n",
    "mean(42) \n",
    "mean(12345)\n",
    "mean(666)"
   ]
  },
  {
   "cell_type": "code",
   "execution_count": null,
   "id": "141e9d50",
   "metadata": {},
   "outputs": [],
   "source": []
  }
 ],
 "metadata": {
  "kernelspec": {
   "display_name": "Python 3 (ipykernel)",
   "language": "python",
   "name": "python3"
  },
  "language_info": {
   "codemirror_mode": {
    "name": "ipython",
    "version": 3
   },
   "file_extension": ".py",
   "mimetype": "text/x-python",
   "name": "python",
   "nbconvert_exporter": "python",
   "pygments_lexer": "ipython3",
   "version": "3.9.7"
  }
 },
 "nbformat": 4,
 "nbformat_minor": 5
}
