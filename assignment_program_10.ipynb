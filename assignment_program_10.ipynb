{
 "cells": [
  {
   "cell_type": "markdown",
   "id": "4882e76d",
   "metadata": {},
   "source": [
    "1.\tWrite a Python program to find sum of elements in list?"
   ]
  },
  {
   "cell_type": "code",
   "execution_count": 1,
   "id": "38449a98",
   "metadata": {},
   "outputs": [
    {
     "data": {
      "text/plain": [
       "26"
      ]
     },
     "execution_count": 1,
     "metadata": {},
     "output_type": "execute_result"
    }
   ],
   "source": [
    "l=[4,2,5,7,8]\n",
    "sum(l)"
   ]
  },
  {
   "cell_type": "code",
   "execution_count": 2,
   "id": "f4367250",
   "metadata": {},
   "outputs": [
    {
     "name": "stdout",
     "output_type": "stream",
     "text": [
      "26\n"
     ]
    }
   ],
   "source": [
    "s=0\n",
    "for i in l:\n",
    "    s=s+i\n",
    "print(s)"
   ]
  },
  {
   "cell_type": "markdown",
   "id": "fa6b9424",
   "metadata": {},
   "source": [
    "2.\tWrite a Python program to  Multiply all numbers in the list?"
   ]
  },
  {
   "cell_type": "code",
   "execution_count": 3,
   "id": "7b62eb4a",
   "metadata": {},
   "outputs": [
    {
     "name": "stdout",
     "output_type": "stream",
     "text": [
      "120\n"
     ]
    }
   ],
   "source": [
    "l=[1,2,3,4,5]\n",
    "s=1\n",
    "for i in l:\n",
    "    s=s*i\n",
    "print(s)"
   ]
  },
  {
   "cell_type": "markdown",
   "id": "aec1fd0e",
   "metadata": {},
   "source": [
    "3.\tWrite a Python program to find smallest number in a list?"
   ]
  },
  {
   "cell_type": "code",
   "execution_count": 4,
   "id": "ff7323b4",
   "metadata": {},
   "outputs": [
    {
     "data": {
      "text/plain": [
       "2"
      ]
     },
     "execution_count": 4,
     "metadata": {},
     "output_type": "execute_result"
    }
   ],
   "source": [
    "l=[4,2,5,7,8]\n",
    "min(l)"
   ]
  },
  {
   "cell_type": "markdown",
   "id": "84b39b5d",
   "metadata": {},
   "source": [
    "4.\tWrite a Python program to find largest number in a list?"
   ]
  },
  {
   "cell_type": "code",
   "execution_count": 5,
   "id": "c3f7e07a",
   "metadata": {},
   "outputs": [
    {
     "data": {
      "text/plain": [
       "8"
      ]
     },
     "execution_count": 5,
     "metadata": {},
     "output_type": "execute_result"
    }
   ],
   "source": [
    "l=[4,2,5,7,8]\n",
    "max(l)"
   ]
  },
  {
   "cell_type": "markdown",
   "id": "5abe71ba",
   "metadata": {},
   "source": [
    "5.\tWrite a Python program to find second largest number in a list?"
   ]
  },
  {
   "cell_type": "code",
   "execution_count": 6,
   "id": "1ce10333",
   "metadata": {},
   "outputs": [
    {
     "name": "stdout",
     "output_type": "stream",
     "text": [
      "25\n"
     ]
    }
   ],
   "source": [
    "s=[]\n",
    "l=[21,2,4,7,85,25]\n",
    "l.sort(reverse=True)\n",
    "print(l[1])"
   ]
  },
  {
   "cell_type": "markdown",
   "id": "8d4a8888",
   "metadata": {},
   "source": [
    "6.\tWrite a Python program to find N largest elements from a list?"
   ]
  },
  {
   "cell_type": "code",
   "execution_count": 4,
   "id": "3d8bcf83",
   "metadata": {},
   "outputs": [
    {
     "name": "stdout",
     "output_type": "stream",
     "text": [
      "enter n values:5\n",
      "enter N largest values:4\n",
      "12\n",
      "54\n",
      "78\n",
      "58\n",
      "69\n",
      "N largest elements from a list are:\n",
      "78 69 58 54 "
     ]
    }
   ],
   "source": [
    "n=int(input(\"enter n values:\"))\n",
    "m=int(input(\"enter N largest values:\"))\n",
    "l=[]\n",
    "if n<=m:\n",
    "    print(\"index out of bounds\")\n",
    "else:\n",
    "    for i in range(n):\n",
    "        ele=int(input())\n",
    "        l.append(ele)\n",
    "        l.sort(reverse=True)\n",
    "print(\"N largest elements from a list are:\")\n",
    "for i in range(m):\n",
    "    print(l[i],end=\" \")"
   ]
  },
  {
   "cell_type": "markdown",
   "id": "fad7e7d0",
   "metadata": {},
   "source": [
    "7.\tWrite a Python program to print even numbers in a list?"
   ]
  },
  {
   "cell_type": "code",
   "execution_count": 12,
   "id": "79ff2abd",
   "metadata": {},
   "outputs": [
    {
     "name": "stdout",
     "output_type": "stream",
     "text": [
      "even numbers from list are:\n",
      "87\n",
      "77\n",
      "87\n",
      "97\n",
      "57\n",
      "51\n"
     ]
    }
   ],
   "source": [
    "l=[12,54,87,77,56,7654,87,97,76,57,51]\n",
    "print(\"even numbers from list are:\")\n",
    "for i in range(len(l)):\n",
    "    if(l[i]%2==0):\n",
    "        print(l[i])"
   ]
  },
  {
   "cell_type": "markdown",
   "id": "bfacaaf5",
   "metadata": {},
   "source": [
    "8.\tWrite a Python program to print odd numbers in a List?"
   ]
  },
  {
   "cell_type": "code",
   "execution_count": 14,
   "id": "50f52b9b",
   "metadata": {},
   "outputs": [
    {
     "name": "stdout",
     "output_type": "stream",
     "text": [
      "odd numbers from list are:\n",
      "87\n",
      "77\n",
      "87\n",
      "97\n",
      "57\n",
      "51\n"
     ]
    }
   ],
   "source": [
    "l=[12,54,87,77,56,7654,87,97,76,57,51]\n",
    "print(\"odd numbers from list are:\")\n",
    "for i in range(len(l)):\n",
    "    if(l[i]%2!=0):\n",
    "        print(l[i])"
   ]
  },
  {
   "cell_type": "markdown",
   "id": "445d6945",
   "metadata": {},
   "source": [
    "9.\tWrite a Python program to Remove empty List from List?"
   ]
  },
  {
   "cell_type": "code",
   "execution_count": 15,
   "id": "1e0615cf",
   "metadata": {},
   "outputs": [
    {
     "name": "stdout",
     "output_type": "stream",
     "text": [
      "[2, 5, 54, 45, [23]]\n"
     ]
    }
   ],
   "source": [
    "s=[]\n",
    "l=[2,5,[],54,[],45,[23]]\n",
    "for i in range(len(l)):\n",
    "    if(l[i]!=[]):\n",
    "        s.append(l[i])\n",
    "print(s)"
   ]
  },
  {
   "cell_type": "markdown",
   "id": "18f5302e",
   "metadata": {},
   "source": [
    "10.\tWrite a Python program to Cloning or Copying a list?"
   ]
  },
  {
   "cell_type": "code",
   "execution_count": 17,
   "id": "2bbcdd9a",
   "metadata": {},
   "outputs": [
    {
     "name": "stdout",
     "output_type": "stream",
     "text": [
      "[1, 5, 1, 7, 8]\n",
      "[1, 5, 1, 7, 8]\n"
     ]
    }
   ],
   "source": [
    "l=[1,5,1,7,8]\n",
    "s=l\n",
    "print(l)\n",
    "print(s)"
   ]
  },
  {
   "cell_type": "code",
   "execution_count": 19,
   "id": "b2e871b6",
   "metadata": {},
   "outputs": [
    {
     "name": "stdout",
     "output_type": "stream",
     "text": [
      "[4, 5, 7, 8, 2]\n",
      "[[4, 5, 7, 8, 2]]\n"
     ]
    }
   ],
   "source": [
    "s=[4,5,7,8,2]\n",
    "d=[]\n",
    "d.append(s)\n",
    "print(s)\n",
    "print(d)"
   ]
  },
  {
   "cell_type": "code",
   "execution_count": 21,
   "id": "1c46566d",
   "metadata": {},
   "outputs": [
    {
     "name": "stdout",
     "output_type": "stream",
     "text": [
      "[5, 54, 8, 10, 2, 9]\n",
      "[5, 54, 8, 10, 2, 9]\n"
     ]
    }
   ],
   "source": [
    "k=[5,54,8,10,2,9]\n",
    "g=[]\n",
    "g.extend(k)\n",
    "print(k)\n",
    "print(g)"
   ]
  },
  {
   "cell_type": "markdown",
   "id": "18fd0011",
   "metadata": {},
   "source": [
    "11.\tWrite a Python program to Count occurrences of an element in a list?"
   ]
  },
  {
   "cell_type": "code",
   "execution_count": 27,
   "id": "b7913938",
   "metadata": {},
   "outputs": [
    {
     "name": "stdout",
     "output_type": "stream",
     "text": [
      "enter the number u want in my list:2\n",
      "2 value in my list is 3 times\n"
     ]
    }
   ],
   "source": [
    "l=[1,3,1,2,2,1,3,2]\n",
    "n=int(input(\"enter the number u want in my list:\"))\n",
    "if n in l:\n",
    "    s=l.count(n)\n",
    "    print(f\"{n} value in my list is {s} times\")\n",
    "else:\n",
    "    print(f\"{n} value not in my list\")"
   ]
  },
  {
   "cell_type": "code",
   "execution_count": null,
   "id": "642eb66d",
   "metadata": {},
   "outputs": [],
   "source": []
  }
 ],
 "metadata": {
  "kernelspec": {
   "display_name": "Python 3 (ipykernel)",
   "language": "python",
   "name": "python3"
  },
  "language_info": {
   "codemirror_mode": {
    "name": "ipython",
    "version": 3
   },
   "file_extension": ".py",
   "mimetype": "text/x-python",
   "name": "python",
   "nbconvert_exporter": "python",
   "pygments_lexer": "ipython3",
   "version": "3.9.7"
  }
 },
 "nbformat": 4,
 "nbformat_minor": 5
}
