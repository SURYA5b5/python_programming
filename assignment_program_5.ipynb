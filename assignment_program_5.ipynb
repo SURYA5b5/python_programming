{
 "cells": [
  {
   "cell_type": "markdown",
   "id": "df1b61c4",
   "metadata": {},
   "source": [
    "1.\tWrite a Python Program to Find LCM?"
   ]
  },
  {
   "cell_type": "code",
   "execution_count": 5,
   "id": "0087a0be",
   "metadata": {},
   "outputs": [
    {
     "name": "stdout",
     "output_type": "stream",
     "text": [
      "n1:52\n",
      "n2:5\n",
      "LCM of 52 and 5 is 260\n"
     ]
    }
   ],
   "source": [
    "n1=int(input(\"n1:\"))\n",
    "n2=int(input(\"n2:\"))\n",
    "if n1>n2:\n",
    "    higher=n1\n",
    "else:\n",
    "    higher=n2\n",
    "value=higher\n",
    "while(True):\n",
    "    if higher%n1==0 and higher%n2==0:\n",
    "        print(f\"LCM of {n1} and {n2} is {higher}\")\n",
    "        break\n",
    "    else:\n",
    "        higher=higher+value"
   ]
  },
  {
   "cell_type": "markdown",
   "id": "988350e9",
   "metadata": {},
   "source": [
    "2.\tWrite a Python Program to Find HCF?"
   ]
  },
  {
   "cell_type": "code",
   "execution_count": 18,
   "id": "1792ec8d",
   "metadata": {},
   "outputs": [
    {
     "name": "stdout",
     "output_type": "stream",
     "text": [
      "n1:12\n",
      "n2:18\n",
      "LCM of 12 and 18 is 6\n"
     ]
    }
   ],
   "source": [
    "n1=int(input(\"n1:\"))\n",
    "n2=int(input(\"n2:\"))\n",
    "if n1<n2:\n",
    "    smaller=n1\n",
    "else:\n",
    "    smaller=n2\n",
    "for i in range(1,smaller+1):\n",
    "    if((n1%i==0)and(n2%i==0)):\n",
    "        hcf=i\n",
    "print(f\"LCM of {n1} and {n2} is {hcf}\")"
   ]
  },
  {
   "cell_type": "markdown",
   "id": "d7121db8",
   "metadata": {},
   "source": [
    "3.\tWrite a Python Program to Convert Decimal to Binary, Octal and Hexadecimal?"
   ]
  },
  {
   "cell_type": "code",
   "execution_count": 22,
   "id": "3c5fe5a6",
   "metadata": {},
   "outputs": [
    {
     "name": "stdout",
     "output_type": "stream",
     "text": [
      "6\n",
      "Decimal to Binary 6: 110\n",
      "Decimal to Octal 6: 0o6\n",
      "Decimal to Hexadecimal 6: 0x45\n"
     ]
    }
   ],
   "source": [
    "#convert Decimal to Binary\n",
    "n=int(input())\n",
    "print(f\"Decimal to Binary {n}:\",bin(n)[2:])\n",
    "#Decimal to Octal\n",
    "print(f\"Decimal to Octal {n}:\",oct(n))\n",
    "#Decimal to Hexadecimal\n",
    "print(f\"Decimal to Hexadecimal {n}:\",hex(69))"
   ]
  },
  {
   "cell_type": "markdown",
   "id": "e81ef160",
   "metadata": {},
   "source": [
    "4.\tWrite a Python Program To Find ASCII value of a character?"
   ]
  },
  {
   "cell_type": "code",
   "execution_count": 24,
   "id": "3fd9da6e",
   "metadata": {},
   "outputs": [
    {
     "name": "stdout",
     "output_type": "stream",
     "text": [
      "enter character from a to z or A to Z:A\n",
      "ASCII value of A is 65\n"
     ]
    }
   ],
   "source": [
    "c=input(\"enter character from a to z or A to Z:\")\n",
    "a=ord(c)\n",
    "print(f\"ASCII value of {c} is {a}\")"
   ]
  },
  {
   "cell_type": "markdown",
   "id": "52425322",
   "metadata": {},
   "source": [
    "5.\tWrite a Python Program to Make a Simple Calculator with 4 basic mathematical operations?"
   ]
  },
  {
   "cell_type": "code",
   "execution_count": 25,
   "id": "4ffdf9a6",
   "metadata": {},
   "outputs": [
    {
     "name": "stdout",
     "output_type": "stream",
     "text": [
      "Select operation.\n",
      "1.Add\n",
      "2.Subtract\n",
      "3.Multiply\n",
      "4.Divide\n",
      "Enter choice(1/2/3/4): 1\n",
      "Enter first number: 5\n",
      "Enter second number: 8\n",
      "5.0 + 8.0 = 13.0\n",
      "Let's do next calculation? (yes/no): yes\n",
      "Enter choice(1/2/3/4): 2\n",
      "Enter first number: 14\n",
      "Enter second number: 2\n",
      "14.0 - 2.0 = 12.0\n",
      "Let's do next calculation? (yes/no): no\n"
     ]
    }
   ],
   "source": [
    "def add(x, y):\n",
    "    return x + y\n",
    "def subtract(x, y):\n",
    "    return x - y\n",
    "def multiply(x, y):\n",
    "    return x * y\n",
    "def divide(x, y):\n",
    "    return x / y\n",
    "\n",
    "\n",
    "print(\"Select operation.\")\n",
    "print(\"1.Add\")\n",
    "print(\"2.Subtract\")\n",
    "print(\"3.Multiply\")\n",
    "print(\"4.Divide\")\n",
    "\n",
    "while True:\n",
    "    choice = input(\"Enter choice(1/2/3/4): \")\n",
    "\n",
    "    if choice in ('1', '2', '3', '4'):\n",
    "        num1 = float(input(\"Enter first number: \"))\n",
    "        num2 = float(input(\"Enter second number: \"))\n",
    "\n",
    "        if choice == '1':\n",
    "            print(num1, \"+\", num2, \"=\", add(num1, num2))\n",
    "\n",
    "        elif choice == '2':\n",
    "            print(num1, \"-\", num2, \"=\", subtract(num1, num2))\n",
    "\n",
    "        elif choice == '3':\n",
    "            print(num1, \"*\", num2, \"=\", multiply(num1, num2))\n",
    "\n",
    "        elif choice == '4':\n",
    "            print(num1, \"/\", num2, \"=\", divide(num1, num2))\n",
    "        \n",
    "        next_calculation = input(\"Let's do next calculation? (yes/no): \")\n",
    "        if next_calculation == \"no\":\n",
    "          break\n",
    "    \n",
    "    else:\n",
    "        print(\"Invalid Input\")"
   ]
  }
 ],
 "metadata": {
  "kernelspec": {
   "display_name": "Python 3 (ipykernel)",
   "language": "python",
   "name": "python3"
  },
  "language_info": {
   "codemirror_mode": {
    "name": "ipython",
    "version": 3
   },
   "file_extension": ".py",
   "mimetype": "text/x-python",
   "name": "python",
   "nbconvert_exporter": "python",
   "pygments_lexer": "ipython3",
   "version": "3.9.7"
  }
 },
 "nbformat": 4,
 "nbformat_minor": 5
}
