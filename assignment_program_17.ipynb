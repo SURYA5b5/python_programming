{
 "cells": [
  {
   "cell_type": "raw",
   "id": "2b8c70f1",
   "metadata": {},
   "source": [
    "1. Create a function that takes three arguments a, b, c and returns the sum of the numbers that are evenly divided by c from the range a, b inclusive.\n",
    "Examples\n",
    "evenly_divisible(1, 10, 20) ➞ 0\n",
    "# No number between 1 and 10 can be evenly divided by 20.\n",
    "\n",
    "evenly_divisible(1, 10, 2) ➞ 30\n",
    "# 2 + 4 + 6 + 8 + 10 = 30\n",
    "\n",
    "evenly_divisible(1, 10, 3) ➞ 18\n",
    "# 3 + 6 + 9 = 18\n"
   ]
  },
  {
   "cell_type": "code",
   "execution_count": 22,
   "id": "f082fbbf",
   "metadata": {},
   "outputs": [
    {
     "name": "stdout",
     "output_type": "stream",
     "text": [
      "(1,10,20)-->0\n",
      "(1,10,2)-->20\n",
      "(1,10,3)-->18\n"
     ]
    }
   ],
   "source": [
    "def even(a,b,c):\n",
    "    s=[]\n",
    "    for i in range(a,b):\n",
    "        if i%c==0:\n",
    "            s.append(i)\n",
    "    print(f'({a},{b},{c})-->{sum(s)}')\n",
    "even(1,10,20)\n",
    "even(1,10,2)\n",
    "even(1,10,3)"
   ]
  },
  {
   "cell_type": "markdown",
   "id": "c67b1fe4",
   "metadata": {},
   "source": [
    "2. Create a function that returns True if a given inequality expression is correct and False otherwise.\n",
    "Examples\n",
    "correct_signs(\"3 < 7 < 11\") ➞ True\n",
    "\n",
    "correct_signs(\"13 > 44 > 33 > 1\") ➞ False\n",
    "\n",
    "correct_signs(\"1 < 2 < 6 < 9 > 3\") ➞ True\n"
   ]
  },
  {
   "cell_type": "code",
   "execution_count": 28,
   "id": "6a47fe8c",
   "metadata": {},
   "outputs": [
    {
     "name": "stdout",
     "output_type": "stream",
     "text": [
      "enter:3 < 7 < 11\n",
      "3 < 7 < 11-->True\n",
      "enter:13 > 44 > 33 > 1\n",
      "13 > 44 > 33 > 1-->False\n",
      "enter:1 < 2 < 6 < 9 > 3\n",
      "1 < 2 < 6 < 9 > 3-->True\n"
     ]
    }
   ],
   "source": [
    "def correct():\n",
    "    n=input(\"enter:\")\n",
    "    s=eval(n)\n",
    "    print(f'{n}-->{s}')\n",
    "for i in range(3):\n",
    "    correct()"
   ]
  },
  {
   "cell_type": "markdown",
   "id": "2c3b369e",
   "metadata": {},
   "source": [
    "3. Create a function that replaces all the vowels in a string with a specified character.\n",
    "Examples\n",
    "replace_vowels(\"the aardvark\", \"#\") ➞ \"th# ##rdv#rk\"\n",
    "\n",
    "replace_vowels(\"minnie mouse\", \"?\") ➞ \"m?nn?? m??s?\"\n",
    "\n",
    "replace_vowels(\"shakespeare\", \"*\") ➞ \"sh*k*sp**r*\"\n",
    "\n"
   ]
  },
  {
   "cell_type": "code",
   "execution_count": 1,
   "id": "1edc8dee",
   "metadata": {},
   "outputs": [
    {
     "name": "stdout",
     "output_type": "stream",
     "text": [
      "enter string:the aardvark\n",
      "enter special_character:#\n",
      "(the aardvark,#)-->th# ##rdv#rk\n",
      "enter string:minnie mouse\n",
      "enter special_character:?\n",
      "(minnie mouse,?)-->m?nn?? m??s?\n",
      "enter string:shakespeare\n",
      "enter special_character:*\n",
      "(shakespeare,*)-->sh*k*sp**r*\n"
     ]
    }
   ],
   "source": [
    "def vowels():\n",
    "    string=input(\"enter string:\")\n",
    "    s=string\n",
    "    char=input(\"enter special_character:\")\n",
    "    vo=['a','e','i','o','u','A','E','I','O','U']\n",
    "    for i in string:\n",
    "        if i in vo:\n",
    "            string=string.replace(i,char)\n",
    "    print(f'({s},{char})-->{string}')\n",
    "for i in range(3):\n",
    "    vowels()           "
   ]
  },
  {
   "cell_type": "markdown",
   "id": "0fee03d8",
   "metadata": {},
   "source": [
    "4. Write a function that calculates the factorial of a number recursively.\n",
    "Examples\n",
    "factorial(5) ➞ 120\n",
    "\n",
    "factorial(3) ➞ 6\n",
    "\n",
    "factorial(1) ➞ 1\n",
    "\n",
    "factorial(0) ➞ 1"
   ]
  },
  {
   "cell_type": "code",
   "execution_count": 9,
   "id": "dbdabf62",
   "metadata": {},
   "outputs": [
    {
     "name": "stdout",
     "output_type": "stream",
     "text": [
      "factorial5--> 120\n",
      "factorial3--> 6\n",
      "factorial1--> 1\n",
      "factorial0--> 1\n"
     ]
    }
   ],
   "source": [
    "def fact(n):\n",
    "    if(n==0 or n==1):\n",
    "        return 1\n",
    "    else:\n",
    "        return n*fact(n-1)\n",
    "print(f\"factorial{5}-->\",fact(5))\n",
    "print(f\"factorial{3}-->\",fact(3))\n",
    "print(f\"factorial{1}-->\",fact(1))\n",
    "print(f\"factorial{0}-->\",fact(0))"
   ]
  },
  {
   "cell_type": "markdown",
   "id": "17f80880",
   "metadata": {},
   "source": [
    "5. Hamming distance is the number of characters that differ between two strings.\n",
    "To illustrate:\n",
    "String1: \"abcbba\"\n",
    "String2: \"abcbda\"\n",
    "\n",
    "Hamming Distance: 1 - \"b\" vs. \"d\" is the only difference.\n",
    "Create a function that computes the hamming distance between two strings.\n",
    "Examples\n",
    "hamming_distance(\"abcde\", \"bcdef\") ➞ 5\n",
    "\n",
    "hamming_distance(\"abcde\", \"abcde\") ➞ 0\n",
    "\n",
    "hamming_distance(\"strong\", \"strung\") ➞ 1\n"
   ]
  },
  {
   "cell_type": "code",
   "execution_count": 10,
   "id": "a7cf557d",
   "metadata": {},
   "outputs": [
    {
     "name": "stdout",
     "output_type": "stream",
     "text": [
      "Enter the String_1: abcde\n",
      "Enter the String_2: bcdef\n",
      "Hamning Distance b/w abcde and bcdef ➞ 5\n",
      "Enter the String_1: abcde\n",
      "Enter the String_2: abcde\n",
      "Hamning Distance b/w abcde and abcde ➞ 0\n",
      "Enter the String_1: strong\n",
      "Enter the String_2: strung\n",
      "Hamning Distance b/w strong and strung ➞ 1\n"
     ]
    }
   ],
   "source": [
    "def genHamDistance():\n",
    "    in_string_1 = input('Enter the String_1: ')\n",
    "    in_string_2 = input('Enter the String_2: ')\n",
    "    if len(in_string_1) == len(in_string_2):\n",
    "        count = 0\n",
    "        for i in range(len(in_string_1)):\n",
    "            if in_string_1[i] != in_string_2[i]:\n",
    "                count = count+1\n",
    "        print(f'Hamning Distance b/w {in_string_1} and {in_string_2} ➞ {count}')\n",
    "    else:\n",
    "        print('Both Strings Must be of Same Length')\n",
    "\n",
    "for x in range(3):\n",
    "    genHamDistance()"
   ]
  },
  {
   "cell_type": "code",
   "execution_count": null,
   "id": "9d0b4127",
   "metadata": {},
   "outputs": [],
   "source": []
  }
 ],
 "metadata": {
  "kernelspec": {
   "display_name": "Python 3 (ipykernel)",
   "language": "python",
   "name": "python3"
  },
  "language_info": {
   "codemirror_mode": {
    "name": "ipython",
    "version": 3
   },
   "file_extension": ".py",
   "mimetype": "text/x-python",
   "name": "python",
   "nbconvert_exporter": "python",
   "pygments_lexer": "ipython3",
   "version": "3.9.7"
  }
 },
 "nbformat": 4,
 "nbformat_minor": 5
}
