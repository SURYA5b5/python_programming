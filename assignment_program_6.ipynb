{
 "cells": [
  {
   "cell_type": "markdown",
   "id": "4d2b13e3",
   "metadata": {},
   "source": [
    "1.\tWrite a Python Program to Display Fibonacci Sequence Using Recursion?"
   ]
  },
  {
   "cell_type": "code",
   "execution_count": 15,
   "id": "70bac6e5",
   "metadata": {},
   "outputs": [
    {
     "name": "stdout",
     "output_type": "stream",
     "text": [
      "enter n value:5\n",
      "fib of sequence:\n",
      "0\n",
      "1\n",
      "1\n",
      "2\n",
      "3\n"
     ]
    }
   ],
   "source": [
    "def fib(n):\n",
    "    if n<=1:\n",
    "        return n\n",
    "    else:\n",
    "        return (fib(n-1)+fib(n-2))\n",
    "n=int(input(\"enter n value:\"))\n",
    "print(\"fib of sequence:\")\n",
    "for i in range(n):\n",
    "    print(fib(i))"
   ]
  },
  {
   "cell_type": "markdown",
   "id": "00552051",
   "metadata": {},
   "source": [
    "2.\tWrite a Python Program to Find Factorial of Number Using Recursion?"
   ]
  },
  {
   "cell_type": "code",
   "execution_count": 1,
   "id": "6621bf83",
   "metadata": {},
   "outputs": [
    {
     "name": "stdout",
     "output_type": "stream",
     "text": [
      "enter n value:5\n",
      "120\n"
     ]
    }
   ],
   "source": [
    "def fact(n):\n",
    "    if n<0:\n",
    "        return \"enter value 0 or above\"\n",
    "    elif n==0 or n==1:\n",
    "        return 1\n",
    "    else:\n",
    "        return n*fact(n-1)\n",
    "n=int(input(\"enter n value:\"))\n",
    "print(fact(n))"
   ]
  },
  {
   "cell_type": "markdown",
   "id": "069fba89",
   "metadata": {},
   "source": [
    "3.\tWrite a Python Program to calculate your Body Mass Index?"
   ]
  },
  {
   "cell_type": "code",
   "execution_count": 2,
   "id": "02bd9919",
   "metadata": {},
   "outputs": [
    {
     "name": "stdout",
     "output_type": "stream",
     "text": [
      "enter your weight:70\n",
      "enter your height in meters:1.5\n",
      "u r suffering from obesity\n"
     ]
    }
   ],
   "source": [
    "weight=eval(input(\"enter your weight:\"))\n",
    "height=eval(input(\"enter your height in meters:\"))\n",
    "bmi=weight/height**2\n",
    "if(bmi<18.5):\n",
    "    status=\"u r in underweight\"\n",
    "elif(bmi>18.5 and bmi<24.9):\n",
    "    status=\"u r healthy\"\n",
    "elif(bmi>=24.9 and bmi<30):\n",
    "    status=\"u r on overweight\"\n",
    "else:\n",
    "    status=\"u r suffering from obesity\"\n",
    "print(status)"
   ]
  },
  {
   "cell_type": "markdown",
   "id": "973ba43c",
   "metadata": {},
   "source": [
    "4.\tWrite a Python Program to calculate the natural logarithm of any number?"
   ]
  },
  {
   "cell_type": "code",
   "execution_count": 7,
   "id": "44e1e9ea",
   "metadata": {},
   "outputs": [
    {
     "name": "stdout",
     "output_type": "stream",
     "text": [
      "enter n value5\n",
      "log value for 5 is 1.6094379124341003\n"
     ]
    }
   ],
   "source": [
    "import math\n",
    "n=eval(input(\"enter n value:\"))\n",
    "g=math.log(n)\n",
    "print(f\"log value for {n} is {g}\")"
   ]
  },
  {
   "cell_type": "markdown",
   "id": "e90fb696",
   "metadata": {},
   "source": [
    "5.\tWrite a Python Program for cube sum of first n natural numbers?"
   ]
  },
  {
   "cell_type": "code",
   "execution_count": 2,
   "id": "2d4cadb0",
   "metadata": {},
   "outputs": [
    {
     "name": "stdout",
     "output_type": "stream",
     "text": [
      "enter n value:5\n",
      "225\n"
     ]
    }
   ],
   "source": [
    "sum=0\n",
    "n=int(input(\"enter n value:\"))\n",
    "for i in range(0,n+1):\n",
    "    sum=sum+i**3\n",
    "print(sum)"
   ]
  }
 ],
 "metadata": {
  "kernelspec": {
   "display_name": "Python 3 (ipykernel)",
   "language": "python",
   "name": "python3"
  },
  "language_info": {
   "codemirror_mode": {
    "name": "ipython",
    "version": 3
   },
   "file_extension": ".py",
   "mimetype": "text/x-python",
   "name": "python",
   "nbconvert_exporter": "python",
   "pygments_lexer": "ipython3",
   "version": "3.9.7"
  }
 },
 "nbformat": 4,
 "nbformat_minor": 5
}
