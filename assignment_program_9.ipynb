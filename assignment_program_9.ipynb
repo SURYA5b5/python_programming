{
 "cells": [
  {
   "cell_type": "markdown",
   "id": "bd2a02c2",
   "metadata": {},
   "source": [
    "1.Write a Python program to check if the given number is a Disarium Number?"
   ]
  },
  {
   "cell_type": "code",
   "execution_count": 1,
   "id": "dbac3e3f",
   "metadata": {},
   "outputs": [
    {
     "name": "stdout",
     "output_type": "stream",
     "text": [
      "enter n value:175\n",
      "0 is a Disarium Number\n"
     ]
    }
   ],
   "source": [
    "n=input(\"enter n value:\")\n",
    "k=len(n)\n",
    "n=int(n)\n",
    "temp=n\n",
    "s=0\n",
    "while n!=0:\n",
    "    a=n%10\n",
    "    s=s+a**k\n",
    "    n=n//10\n",
    "    k=k-1\n",
    "if temp==s:\n",
    "    print(n,\"is a Disarium Number\")\n",
    "else:\n",
    "    print(n,\"is not a Disarium Number\")"
   ]
  },
  {
   "cell_type": "markdown",
   "id": "a4695212",
   "metadata": {},
   "source": [
    "2.Write a Python program to print all disarium numbers between 1 to 100?"
   ]
  },
  {
   "cell_type": "code",
   "execution_count": 2,
   "id": "cbc6f871",
   "metadata": {},
   "outputs": [
    {
     "name": "stdout",
     "output_type": "stream",
     "text": [
      "[1, 2, 3, 4, 5, 6, 7, 8, 9, 89, 135, 175, 518, 598]\n"
     ]
    }
   ],
   "source": [
    "d=[]\n",
    "for i in range(1,1000):\n",
    "    s=0\n",
    "    for j in range(len(str(i))):\n",
    "        s=s+int(str(i)[j])**(j+1)\n",
    "    if s==i:\n",
    "        d.append(i)\n",
    "print(d)"
   ]
  },
  {
   "cell_type": "code",
   "execution_count": null,
   "id": "0d1c624c",
   "metadata": {},
   "outputs": [],
   "source": [
    "3.Write a Python program to check if the given number is Happy Number?"
   ]
  },
  {
   "cell_type": "code",
   "execution_count": 3,
   "id": "12e705b2",
   "metadata": {},
   "outputs": [
    {
     "name": "stdout",
     "output_type": "stream",
     "text": [
      "enter value:7\n",
      "7 is a happy number\n"
     ]
    }
   ],
   "source": [
    "def isHappyNumber(num):    \n",
    "    rem = 0\n",
    "    sum = 0       \n",
    "    while(num > 0):    \n",
    "        rem = num%10    \n",
    "        sum = sum + (rem*rem)  \n",
    "        num = num//10    \n",
    "    return sum\n",
    "        \n",
    "num = int(input(\"enter value:\"))   \n",
    "result = num;    \n",
    "     \n",
    "while(result != 1 and result != 4):    \n",
    "    result = isHappyNumber(result)   \n",
    "         \n",
    "if(result == 1):    \n",
    "    print(str(num) + \" is a happy number\")     \n",
    "elif(result == 4):    \n",
    "    print(str(num) + \" is not a happy number\")"
   ]
  },
  {
   "cell_type": "code",
   "execution_count": null,
   "id": "111b3ee6",
   "metadata": {},
   "outputs": [],
   "source": [
    "4.Write a Python program to print all happy numbers between 1 and 100?"
   ]
  },
  {
   "cell_type": "code",
   "execution_count": 7,
   "id": "5cb5a15c",
   "metadata": {},
   "outputs": [
    {
     "name": "stdout",
     "output_type": "stream",
     "text": [
      "List of happy numbers between 1 and 100: \n",
      "[1, 7, 10, 13, 19, 23, 28, 31, 32, 44, 49, 68, 70, 79, 82, 86, 91, 94, 97, 100]\n"
     ]
    }
   ],
   "source": [
    "def isHappyNumber(num):\n",
    "    rem =0\n",
    "    sum = 0\n",
    "    while(num > 0):\n",
    "        rem = num%10\n",
    "        sum = sum + (rem*rem)\n",
    "        num = num//10\n",
    "    return sum\n",
    "a=[]\n",
    "print(\"List of happy numbers between 1 and 100: \")\n",
    "for i in range(1, 101):\n",
    "    result = i\n",
    "    \n",
    "    while(result != 1 and result != 4):\n",
    "        result = isHappyNumber(result)\n",
    "    \n",
    "    if(result == 1):\n",
    "        a.append(i)\n",
    "print(a)"
   ]
  },
  {
   "cell_type": "code",
   "execution_count": null,
   "id": "bac21493",
   "metadata": {},
   "outputs": [],
   "source": [
    "5.Write a Python program to determine whether the given number is a Harshad Number?"
   ]
  },
  {
   "cell_type": "code",
   "execution_count": 11,
   "id": "401c2219",
   "metadata": {},
   "outputs": [
    {
     "name": "stdout",
     "output_type": "stream",
     "text": [
      "enter n value:156\n",
      "12  is a Harshad Number\n"
     ]
    }
   ],
   "source": [
    "n=int(input(\"enter n value:\"))\n",
    "r=0\n",
    "temp=n\n",
    "while n!=0:\n",
    "    a=n%10\n",
    "    r=r+a\n",
    "    n=n//10\n",
    "if temp%r==0:\n",
    "    print(r,\" is a Harshad Number\")\n",
    "else:\n",
    "    print(r,\"is not a Harshad Number\")"
   ]
  },
  {
   "cell_type": "code",
   "execution_count": null,
   "id": "682b2936",
   "metadata": {},
   "outputs": [],
   "source": [
    "6.Write a Python program to print all pronic numbers between 1 and 100?"
   ]
  },
  {
   "cell_type": "code",
   "execution_count": 16,
   "id": "07f0e759",
   "metadata": {},
   "outputs": [
    {
     "name": "stdout",
     "output_type": "stream",
     "text": [
      " pronic numbers between 1 and 100:\n",
      "0 2 6 12 20 30 42 56 72 90 "
     ]
    }
   ],
   "source": [
    "start=0\n",
    "end=100\n",
    "result= []\n",
    "for ele in range(start,end+1):\n",
    "    result.append((ele)*(ele+1))\n",
    "print(\" pronic numbers between 1 and 100:\")\n",
    "for i in result:\n",
    "    if i<100:\n",
    "        print(i,end=\" \")"
   ]
  },
  {
   "cell_type": "code",
   "execution_count": null,
   "id": "997d46cc",
   "metadata": {},
   "outputs": [],
   "source": []
  }
 ],
 "metadata": {
  "kernelspec": {
   "display_name": "Python 3 (ipykernel)",
   "language": "python",
   "name": "python3"
  },
  "language_info": {
   "codemirror_mode": {
    "name": "ipython",
    "version": 3
   },
   "file_extension": ".py",
   "mimetype": "text/x-python",
   "name": "python",
   "nbconvert_exporter": "python",
   "pygments_lexer": "ipython3",
   "version": "3.9.7"
  }
 },
 "nbformat": 4,
 "nbformat_minor": 5
}
