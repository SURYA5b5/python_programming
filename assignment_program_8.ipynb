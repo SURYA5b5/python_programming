{
 "cells": [
  {
   "cell_type": "markdown",
   "id": "16908646",
   "metadata": {},
   "source": [
    "1.Write a Python Program to Add Two Matrices?"
   ]
  },
  {
   "cell_type": "code",
   "execution_count": 10,
   "id": "b4f3d918",
   "metadata": {},
   "outputs": [
    {
     "name": "stdout",
     "output_type": "stream",
     "text": [
      "[[1 2 3]\n",
      " [4 5 6]]\n",
      "[[4 5 6]\n",
      " [1 2 3]]\n",
      "sum of matrices is\n",
      "[[5 7 9]\n",
      " [5 7 9]]\n"
     ]
    }
   ],
   "source": [
    "import numpy as np\n",
    "a=np.mat([[1,2,3],[4,5,6]])\n",
    "print(a)\n",
    "b=np.mat([[4,5,6],[1,2,3]])\n",
    "print(b)\n",
    "print(\"sum of matrices is\")\n",
    "print(a+b)"
   ]
  },
  {
   "cell_type": "markdown",
   "id": "ea7e393c",
   "metadata": {},
   "source": [
    "2.Write a Python Program to Multiply Two Matrices?"
   ]
  },
  {
   "cell_type": "code",
   "execution_count": 15,
   "id": "189a04cd",
   "metadata": {},
   "outputs": [
    {
     "name": "stdout",
     "output_type": "stream",
     "text": [
      "[[1 2]\n",
      " [5 6]]\n",
      "[[4 5]\n",
      " [1 2]]\n",
      "sum of matrices is\n",
      "[[ 6  9]\n",
      " [26 37]]\n",
      "[[ 6  9]\n",
      " [26 37]]\n"
     ]
    }
   ],
   "source": [
    "import numpy as np\n",
    "a=np.mat([[1,2],[5,6]])\n",
    "print(a)\n",
    "b=np.mat([[4,5],[1,2]])\n",
    "print(b)\n",
    "print(\"sum of matrices is\")\n",
    "print(a@b)\n",
    "print(a*b)"
   ]
  },
  {
   "cell_type": "markdown",
   "id": "c55d3dec",
   "metadata": {},
   "source": [
    "3.Write a Python Program to Transpose a Matrix?"
   ]
  },
  {
   "cell_type": "code",
   "execution_count": 19,
   "id": "71833cc2",
   "metadata": {},
   "outputs": [
    {
     "name": "stdout",
     "output_type": "stream",
     "text": [
      "[[1 2 3]\n",
      " [4 5 6]]\n",
      "after transpose\n",
      "[[1 4]\n",
      " [2 5]\n",
      " [3 6]]\n"
     ]
    }
   ],
   "source": [
    "import numpy as np\n",
    "a=np.mat([[1,2,3],[4,5,6]])\n",
    "print(a)\n",
    "b=a.T\n",
    "print('after transpose')\n",
    "print(b)"
   ]
  },
  {
   "cell_type": "markdown",
   "id": "a67a71cc",
   "metadata": {},
   "source": [
    "4.Write a Python Program to Sort Words in Alphabetic Order?"
   ]
  },
  {
   "cell_type": "code",
   "execution_count": 1,
   "id": "29fa737f",
   "metadata": {},
   "outputs": [
    {
     "name": "stdout",
     "output_type": "stream",
     "text": [
      "Enter a String: surya teja all the best\n",
      "All Best Surya Teja The\n"
     ]
    }
   ],
   "source": [
    "def sortString():\n",
    "    in_string = input(\"Enter a String: \").title()\n",
    "    sorted_list = sorted(in_string.split(' '))\n",
    "    print(' '.join(sorted_list))\n",
    "sortString()"
   ]
  },
  {
   "cell_type": "markdown",
   "id": "67de4cd7",
   "metadata": {},
   "source": [
    "5.Write a Python Program to Remove Punctuation From a String?"
   ]
  },
  {
   "cell_type": "code",
   "execution_count": 2,
   "id": "1fc976b0",
   "metadata": {},
   "outputs": [
    {
     "name": "stdout",
     "output_type": "stream",
     "text": [
      "Enter a String: su#rya$$%6t@#eja\n",
      "surya6teja\n"
     ]
    }
   ],
   "source": [
    "def removePunctuatuions():\n",
    "    punctuations = '''!()-[]{};:'\"\\,<>./?@#$%^&*_~'''\n",
    "    in_string = input('Enter a String: ')\n",
    "    out_string = ''\n",
    "    for ele in in_string:\n",
    "        if ele not in punctuations:\n",
    "            out_string += ele\n",
    "    print(out_string)\n",
    "    \n",
    "removePunctuatuions()"
   ]
  },
  {
   "cell_type": "code",
   "execution_count": null,
   "id": "fc402133",
   "metadata": {},
   "outputs": [],
   "source": []
  }
 ],
 "metadata": {
  "kernelspec": {
   "display_name": "Python 3 (ipykernel)",
   "language": "python",
   "name": "python3"
  },
  "language_info": {
   "codemirror_mode": {
    "name": "ipython",
    "version": 3
   },
   "file_extension": ".py",
   "mimetype": "text/x-python",
   "name": "python",
   "nbconvert_exporter": "python",
   "pygments_lexer": "ipython3",
   "version": "3.9.7"
  }
 },
 "nbformat": 4,
 "nbformat_minor": 5
}
